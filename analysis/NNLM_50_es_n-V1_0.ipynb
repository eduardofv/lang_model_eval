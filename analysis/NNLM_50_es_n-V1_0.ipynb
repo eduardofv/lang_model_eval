{
  "nbformat": 4,
  "nbformat_minor": 0,
  "metadata": {
    "kernelspec": {
      "name": "python3",
      "display_name": "Python 3"
    },
    "language_info": {
      "codemirror_mode": {
        "name": "ipython",
        "version": 3
      },
      "file_extension": ".py",
      "mimetype": "text/x-python",
      "name": "python",
      "nbconvert_exporter": "python",
      "pygments_lexer": "ipython3",
      "version": "3.6.9"
    },
    "colab": {
      "name": "base.ipynb",
      "provenance": [],
      "include_colab_link": true
    },
    "accelerator": "GPU"
  },
  "cells": [
    {
      "cell_type": "markdown",
      "metadata": {
        "id": "view-in-github",
        "colab_type": "text"
      },
      "source": [
        "<a href=\"https://colab.research.google.com/github/eduardofv/lang_model_eval/blob/master/analysis/NNLM_50_es_n-V1_0.ipynb\" target=\"_parent\"><img src=\"https://colab.research.google.com/assets/colab-badge.svg\" alt=\"Open In Colab\"/></a>"
      ]
    },
    {
      "cell_type": "markdown",
      "metadata": {
        "id": "vClH3pInKLsA",
        "colab_type": "text"
      },
      "source": [
        "# Language Model Evaluation"
      ]
    },
    {
      "cell_type": "code",
      "metadata": {
        "id": "-RUhH0OjOj8F",
        "colab_type": "code",
        "outputId": "f1a24342-6143-4c4b-8ae0-8a8c08813670",
        "colab": {
          "base_uri": "https://localhost:8080/",
          "height": 34
        }
      },
      "source": [
        "%tensorflow_version 2.x"
      ],
      "execution_count": 1,
      "outputs": [
        {
          "output_type": "stream",
          "text": [
            "TensorFlow 2.x selected.\n"
          ],
          "name": "stdout"
        }
      ]
    },
    {
      "cell_type": "code",
      "metadata": {
        "id": "pRGcQQC_KLsC",
        "colab_type": "code",
        "colab": {}
      },
      "source": [
        "EXPERIMENT_CONFIG = {\n",
        "    \"EXPERIMENT-NAME\": \"NNLM_50_es_n\", \n",
        "    \"EXPERIMENT-VERSION\": \"v1\",\n",
        "}"
      ],
      "execution_count": 0,
      "outputs": []
    },
    {
      "cell_type": "markdown",
      "metadata": {
        "id": "Va_KsePHKLsG",
        "colab_type": "text"
      },
      "source": [
        "## Version log\n",
        "\n",
        "### base\n",
        "\n",
        "Punto de partida\n"
      ]
    },
    {
      "cell_type": "markdown",
      "metadata": {
        "id": "9iWCSb8LKLsH",
        "colab_type": "text"
      },
      "source": [
        "## Development"
      ]
    },
    {
      "cell_type": "markdown",
      "metadata": {
        "id": "edcEBpUkKLsI",
        "colab_type": "text"
      },
      "source": [
        "### Initialize"
      ]
    },
    {
      "cell_type": "code",
      "metadata": {
        "id": "sJWbZ-wQKLsJ",
        "colab_type": "code",
        "colab": {}
      },
      "source": [
        "%matplotlib inline\n",
        "\n",
        "import sys\n",
        "import os\n",
        "\n",
        "import time\n",
        "import pickle\n",
        "import json\n",
        "import numpy as np\n",
        "import pandas as pd\n",
        "import matplotlib.pyplot as plt\n",
        "\n",
        "import tensorflow as tf\n",
        "import tensorflow.keras as k\n",
        "import tensorflow_hub as hub\n",
        "\n",
        "from tensorflow.keras.models import Sequential\n",
        "from tensorflow.keras.layers import Embedding, LSTM, Bidirectional, Dense, Dropout\n",
        "from tensorflow.keras.optimizers import RMSprop\n",
        "from tensorflow.keras.callbacks import TensorBoard, ModelCheckpoint\n",
        "from tensorflow.keras.utils import to_categorical\n",
        "\n",
        "from sklearn.metrics import balanced_accuracy_score"
      ],
      "execution_count": 0,
      "outputs": []
    },
    {
      "cell_type": "code",
      "metadata": {
        "id": "wQY6DnBQKcYA",
        "colab_type": "code",
        "outputId": "3568837d-c88d-4b87-f045-523fc256f344",
        "colab": {
          "base_uri": "https://localhost:8080/",
          "height": 122
        }
      },
      "source": [
        "DATA_DIR = \"../data\"\n",
        "LOG_DIR = \"../logs\"\n",
        "SAVED_MODEL_DIR = \"../saved_models\"\n",
        "\n",
        "IN_COLAB = 'google.colab' in sys.modules\n",
        "if IN_COLAB:\n",
        "  from google.colab import drive\n",
        "  drive.mount('/content/drive')\n",
        "  DATA_DIR = \"/content/drive/My Drive/datasets/lang_model_eval\"\n",
        "  LOG_DIR = \"logs\"\n",
        "  SAVED_MODEL_DIR = \"saved_models\"\n",
        "  !mkdir logs\n",
        "  !mkdir saved_models"
      ],
      "execution_count": 4,
      "outputs": [
        {
          "output_type": "stream",
          "text": [
            "Go to this URL in a browser: https://accounts.google.com/o/oauth2/auth?client_id=947318989803-6bn6qk8qdgf4n4g3pfee6491hc0brc4i.apps.googleusercontent.com&redirect_uri=urn%3aietf%3awg%3aoauth%3a2.0%3aoob&response_type=code&scope=email%20https%3a%2f%2fwww.googleapis.com%2fauth%2fdocs.test%20https%3a%2f%2fwww.googleapis.com%2fauth%2fdrive%20https%3a%2f%2fwww.googleapis.com%2fauth%2fdrive.photos.readonly%20https%3a%2f%2fwww.googleapis.com%2fauth%2fpeopleapi.readonly\n",
            "\n",
            "Enter your authorization code:\n",
            "··········\n",
            "Mounted at /content/drive\n"
          ],
          "name": "stdout"
        }
      ]
    },
    {
      "cell_type": "markdown",
      "metadata": {
        "id": "8eSfOOFyKLsM",
        "colab_type": "text"
      },
      "source": [
        "### Experiment Config"
      ]
    },
    {
      "cell_type": "code",
      "metadata": {
        "id": "gu0lDl5EKLsN",
        "colab_type": "code",
        "colab": {}
      },
      "source": [
        "EC = EXPERIMENT_CONFIG\n",
        "\n",
        "EC[\"RANDOM_SEED\"] = 12348\n",
        "EC[\"DATASET_FN\"] = f\"{DATA_DIR}/es-train.csv\"\n",
        "EC[\"ROWS_TO_LOAD\"] = None#None == all \n",
        "# how much data will reserve for test set (of the DS prop to use) (0.10)\n",
        "EC[\"TEST_SET_SPLIT\"] = 0.05\n",
        "\n",
        "#TFHUB_EMB_MODEL = \"https://tfhub.dev/google/universal-sentence-encoder/2\" \n",
        "# download the module manually if network problems \n",
        "# like URLError: <urlopen error [Errno -3] Temporary failure in name resolution>\n",
        "# check https://www.tensorflow.org/hub/common_issues \n",
        "#TFHUB_EMB_MODEL = \"../tf_hub_cache/gnews-swivel-20dim-v1\"\n",
        "\n",
        "EC[\"TFHUB-EMB_MODEL\"] = \"https://tfhub.dev/google/nnlm-es-dim50-with-normalization/2\"\n",
        "EC[\"TFHUB-EMB_MODEL_DIM\"] = 50\n",
        "\n",
        "#Model parameters\n",
        "EC[\"MODEL-LM_IS_TRAINABLE\"] = True\n",
        "EC[\"MODEL-DENSE_UNITS\"] = 512\n",
        "EC[\"MODEL-DENSE_ACTIVATION\"] = \"relu\"\n",
        "EC[\"MODEL-DENSE_DROPOUT_RATE\"] = 0.25\n",
        "EC[\"MODEL-OPTIMIZER\"] = \"Adam\"\n",
        "EC[\"MODEL-LOSS\"] = 'sparse_categorical_crossentropy'\n",
        "\n",
        "#Train parameters\n",
        "EC[\"TRAIN-BATCH_SIZE\"] = 1024\n",
        "EC[\"TRAIN-EPOCHS\"] = 8\n",
        "EC[\"TRAIN-INITIAL_EPOCH\"] = 0\n",
        "# how much of the data will be used for validation (of the DS prop to use) (0.05)\n",
        "EC[\"TRAIN-VALIDATION_SET_SPLIT\"] = 0.001\n",
        "\n",
        "EC[\"RESULTS-HISTORIES\"] = []\n",
        "\n",
        "# specify a small proportion to speed things while testing, 1.0 when running full training\n",
        "#DATASET_PROPORTION_TO_USE = 1.0"
      ],
      "execution_count": 0,
      "outputs": []
    },
    {
      "cell_type": "code",
      "metadata": {
        "id": "rNcisGylKLsQ",
        "colab_type": "code",
        "colab": {}
      },
      "source": [
        "#initialize env\n",
        "#seeds to make reproducible\n",
        "#todo: check reproducibility\n",
        "np.random.seed(EC[\"RANDOM_SEED\"])\n",
        "tf.random.set_seed(EC[\"RANDOM_SEED\"])\n",
        "\n",
        "pd.options.display.max_rows = 10"
      ],
      "execution_count": 0,
      "outputs": []
    },
    {
      "cell_type": "code",
      "metadata": {
        "id": "9tkIrPeJKLsT",
        "colab_type": "code",
        "colab": {}
      },
      "source": [
        "def show_env(as_string=True):\n",
        "    my_env = []\n",
        "    my_env.append(f\"Host: {os.getenv('HOST_HOSTNAME')}_{os.getenv('HOSTNAME')}\")\n",
        "    a = !uname -a\n",
        "    my_env.append(f\"OS: {a[0]}\")\n",
        "    my_env.append(f\"Python: {sys.version}\")\n",
        "    my_env.append(f\"Tensorflow: {tf.__version__}\")\n",
        "    if len(tf.config.list_physical_devices(\"GPU\")):\n",
        "        my_env.append(\"GPU: available\")\n",
        "        a=!nvidia-smi -L\n",
        "        my_env.append(\"\\n\".join(a))\n",
        "    else:\n",
        "        my_env.append(\"GPU: not available\")\n",
        "    my_env.append(f\"Keras: {tf.keras.__version__}\")\n",
        "    my_env.append(f\"TFHub: {hub.__version__}\")\n",
        "    if as_string:\n",
        "        my_env = \"\\n\".join(my_env)\n",
        "    return my_env\n",
        "\n",
        "#print(show_env())"
      ],
      "execution_count": 0,
      "outputs": []
    },
    {
      "cell_type": "markdown",
      "metadata": {
        "id": "FgkHxpSgKLsW",
        "colab_type": "text"
      },
      "source": [
        "## Load and prepare datasets"
      ]
    },
    {
      "cell_type": "code",
      "metadata": {
        "id": "d1oqpVN0KLsX",
        "colab_type": "code",
        "outputId": "b72dfb29-087e-44ce-b3ef-dc769db31aa1",
        "colab": {
          "base_uri": "https://localhost:8080/",
          "height": 204
        }
      },
      "source": [
        "df = pd.read_csv(EC['DATASET_FN'], \n",
        "                 nrows = EC['ROWS_TO_LOAD']).dropna(axis=0).sample(frac=1).reset_index()\n",
        "df = df[[\"title\", \"category\"]]\n",
        "df.head()"
      ],
      "execution_count": 8,
      "outputs": [
        {
          "output_type": "execute_result",
          "data": {
            "text/html": [
              "<div>\n",
              "<style scoped>\n",
              "    .dataframe tbody tr th:only-of-type {\n",
              "        vertical-align: middle;\n",
              "    }\n",
              "\n",
              "    .dataframe tbody tr th {\n",
              "        vertical-align: top;\n",
              "    }\n",
              "\n",
              "    .dataframe thead th {\n",
              "        text-align: right;\n",
              "    }\n",
              "</style>\n",
              "<table border=\"1\" class=\"dataframe\">\n",
              "  <thead>\n",
              "    <tr style=\"text-align: right;\">\n",
              "      <th></th>\n",
              "      <th>title</th>\n",
              "      <th>category</th>\n",
              "    </tr>\n",
              "  </thead>\n",
              "  <tbody>\n",
              "    <tr>\n",
              "      <th>0</th>\n",
              "      <td>Neumáticos Windforce 205r55r16 91v Catchgre Gp100</td>\n",
              "      <td>AUTOMOTIVE_TIRES</td>\n",
              "    </tr>\n",
              "    <tr>\n",
              "      <th>1</th>\n",
              "      <td>Colchoneta Con Cierre 1 X 0.5 X 0.04 M Quuz Azul</td>\n",
              "      <td>EXERCISE_MATS</td>\n",
              "    </tr>\n",
              "    <tr>\n",
              "      <th>2</th>\n",
              "      <td>Bomba De Freno Doble Circuito Fiat 125</td>\n",
              "      <td>BRAKE_MASTER_CYLINDERS</td>\n",
              "    </tr>\n",
              "    <tr>\n",
              "      <th>3</th>\n",
              "      <td>Lamparas H4 Osram.</td>\n",
              "      <td>CAR_LIGHT_BULBS</td>\n",
              "    </tr>\n",
              "    <tr>\n",
              "      <th>4</th>\n",
              "      <td>Sensor Rpm Posicion Ciguenal Arbol Bmw 323ti</td>\n",
              "      <td>CAR_ENGINE_CAMSHAFT_SENSORS</td>\n",
              "    </tr>\n",
              "  </tbody>\n",
              "</table>\n",
              "</div>"
            ],
            "text/plain": [
              "                                               title                     category\n",
              "0  Neumáticos Windforce 205r55r16 91v Catchgre Gp100             AUTOMOTIVE_TIRES\n",
              "1   Colchoneta Con Cierre 1 X 0.5 X 0.04 M Quuz Azul                EXERCISE_MATS\n",
              "2             Bomba De Freno Doble Circuito Fiat 125       BRAKE_MASTER_CYLINDERS\n",
              "3                                 Lamparas H4 Osram.              CAR_LIGHT_BULBS\n",
              "4       Sensor Rpm Posicion Ciguenal Arbol Bmw 323ti  CAR_ENGINE_CAMSHAFT_SENSORS"
            ]
          },
          "metadata": {
            "tags": []
          },
          "execution_count": 8
        }
      ]
    },
    {
      "cell_type": "code",
      "metadata": {
        "id": "DvdEBcEsKLsc",
        "colab_type": "code",
        "outputId": "d4682b05-0eb8-460f-93a3-2e728ef43fb3",
        "colab": {
          "base_uri": "https://localhost:8080/",
          "height": 34
        }
      },
      "source": [
        "output_dim = len(df[\"category\"].unique())\n",
        "print(f\"Unique categories: {output_dim}\")"
      ],
      "execution_count": 9,
      "outputs": [
        {
          "output_type": "stream",
          "text": [
            "Unique categories: 1574\n"
          ],
          "name": "stdout"
        }
      ]
    },
    {
      "cell_type": "code",
      "metadata": {
        "id": "98QfwxDxKLsg",
        "colab_type": "code",
        "colab": {}
      },
      "source": [
        "cat_dict = dict(zip(df[\"category\"].unique(), np.arange(output_dim)))\n",
        "inverse_cat_dict = dict(zip(cat_dict.values(), cat_dict.keys()))\n",
        "labels = df[\"category\"].map(cat_dict)"
      ],
      "execution_count": 0,
      "outputs": []
    },
    {
      "cell_type": "markdown",
      "metadata": {
        "id": "xnrGBhIvKLsk",
        "colab_type": "text"
      },
      "source": [
        "### Split datasets"
      ]
    },
    {
      "cell_type": "code",
      "metadata": {
        "id": "z03l7X0oKLsl",
        "colab_type": "code",
        "outputId": "8d7e04c0-af17-426e-d24f-3687e7bbded9",
        "colab": {
          "base_uri": "https://localhost:8080/",
          "height": 85
        }
      },
      "source": [
        "num_samples = len(df)\n",
        "num_test_samples = int(num_samples * EC[\"TEST_SET_SPLIT\"])\n",
        "num_training_samples = num_samples - num_test_samples\n",
        "\n",
        "training_set_data = df[\"title\"].head(num_training_samples)\n",
        "training_set_labels = labels[:num_training_samples]\n",
        "test_set_data = df[\"title\"].tail(num_test_samples)\n",
        "test_set_labels = labels[-num_test_samples:]\n",
        "\n",
        "print(f\"Training set shape: {training_set_data.shape}\")\n",
        "print(f\"Training labels shape: {training_set_labels.shape}\")\n",
        "print(f\"Test set shape: {test_set_data.shape}\")\n",
        "print(f\"Test labels shape: {test_set_labels.shape}\")"
      ],
      "execution_count": 11,
      "outputs": [
        {
          "output_type": "stream",
          "text": [
            "Training set shape: (9500000,)\n",
            "Training labels shape: (9500000,)\n",
            "Test set shape: (500000,)\n",
            "Test labels shape: (500000,)\n"
          ],
          "name": "stdout"
        }
      ]
    },
    {
      "cell_type": "markdown",
      "metadata": {
        "id": "mQnK3ZYKKLsn",
        "colab_type": "text"
      },
      "source": [
        "### Build Model"
      ]
    },
    {
      "cell_type": "code",
      "metadata": {
        "id": "T6ZUr9dMKLso",
        "colab_type": "code",
        "colab": {}
      },
      "source": [
        "## load TF Hub embedding module\n",
        "hub_layer = hub.KerasLayer(EC[\"TFHUB-EMB_MODEL\"], \n",
        "                           output_shape=[EC[\"TFHUB-EMB_MODEL_DIM\"]], \n",
        "                           input_shape=[], \n",
        "                           trainable=EC[\"MODEL-LM_IS_TRAINABLE\"], \n",
        "                           dtype=tf.string,\n",
        "                           name=\"LANG_MODEL\") \n",
        "#hub_layer(np.array(training_set_data[:3]))"
      ],
      "execution_count": 0,
      "outputs": []
    },
    {
      "cell_type": "code",
      "metadata": {
        "scrolled": false,
        "id": "CbPGOcf_KLsr",
        "colab_type": "code",
        "outputId": "17730dfb-865e-470a-f2e2-ca913a99791b",
        "colab": {
          "base_uri": "https://localhost:8080/",
          "height": 357
        }
      },
      "source": [
        "model = Sequential(name = f\"{EC['EXPERIMENT-NAME']}-{EC['EXPERIMENT-VERSION']}\")\n",
        "model.add(hub_layer)\n",
        "model.add(Dense(units = EC[\"MODEL-DENSE_UNITS\"], \n",
        "                activation = EC[\"MODEL-DENSE_ACTIVATION\"],  \n",
        "                name = \"DEN_1\"))\n",
        "model.add(Dropout(rate = EC[\"MODEL-DENSE_DROPOUT_RATE\"],\n",
        "                 name = \"DROP_1\"))\n",
        "model.add(Dense(units = EC[\"MODEL-DENSE_UNITS\"], \n",
        "                activation = EC[\"MODEL-DENSE_ACTIVATION\"],  \n",
        "                name = \"DEN_2\"))\n",
        "model.add(Dropout(rate = EC[\"MODEL-DENSE_DROPOUT_RATE\"],\n",
        "                 name=\"DROP_2\"))\n",
        "\n",
        "model.add(Dense(output_dim, activation=\"softmax\", name=\"DEN_OUT\"))\n",
        "\n",
        "model.compile(optimizer=EC[\"MODEL-OPTIMIZER\"], \n",
        "              loss=EC[\"MODEL-LOSS\"])\n",
        "EC[\"MODEL-SUMMARY\"] = []\n",
        "model.summary(print_fn = lambda x: EC[\"MODEL-SUMMARY\"].append(x))\n",
        "model.summary()"
      ],
      "execution_count": 13,
      "outputs": [
        {
          "output_type": "stream",
          "text": [
            "Model: \"NNLM_50_es_n-v1\"\n",
            "_________________________________________________________________\n",
            "Layer (type)                 Output Shape              Param #   \n",
            "=================================================================\n",
            "LANG_MODEL (KerasLayer)      (None, 50)                48832000  \n",
            "_________________________________________________________________\n",
            "DEN_1 (Dense)                (None, 512)               26112     \n",
            "_________________________________________________________________\n",
            "DROP_1 (Dropout)             (None, 512)               0         \n",
            "_________________________________________________________________\n",
            "DEN_2 (Dense)                (None, 512)               262656    \n",
            "_________________________________________________________________\n",
            "DROP_2 (Dropout)             (None, 512)               0         \n",
            "_________________________________________________________________\n",
            "DEN_OUT (Dense)              (None, 1574)              807462    \n",
            "=================================================================\n",
            "Total params: 49,928,230\n",
            "Trainable params: 49,928,230\n",
            "Non-trainable params: 0\n",
            "_________________________________________________________________\n"
          ],
          "name": "stdout"
        }
      ]
    },
    {
      "cell_type": "markdown",
      "metadata": {
        "id": "rCMy4icFKLsu",
        "colab_type": "text"
      },
      "source": [
        "### Train and Test"
      ]
    },
    {
      "cell_type": "code",
      "metadata": {
        "id": "S7G0O9bRKLsv",
        "colab_type": "code",
        "outputId": "eb69291e-5f12-4d39-b414-ba3eaa8552fa",
        "colab": {
          "base_uri": "https://localhost:8080/",
          "height": 187
        }
      },
      "source": [
        "#run params\n",
        "runid = \"%s-%s-%s\"%\\\n",
        "    (EC[\"EXPERIMENT-NAME\"],\n",
        "     EC[\"EXPERIMENT-VERSION\"],\n",
        "     time.strftime(time.strftime('%y%m%d_%H%M',time.localtime())))\n",
        "\n",
        "EC[\"EXPERIMENT-RUNID\"] = runid\n",
        "\n",
        "#Create saved model dir     \n",
        "directory = SAVED_MODEL_DIR+\"/\"+runid\n",
        "if not os.path.exists(directory):\n",
        "    os.makedirs(directory)\n",
        "EC[\"EXPERIMENT-SAVE_DIR\"] = directory\n",
        "\n",
        "EC[\"EXPERIMENT-LOG_DIR\"] = f\"{LOG_DIR}/{runid}\"\n",
        "EC[\"EXPERIMENT-BEST_MODEL_FN\"] = f\"{directory}/model.hdf5\"\n",
        "\n",
        "EC[\"EXPERIMENT-ENVIRONMENT\"]  = show_env(as_string=False)\n",
        "\n",
        "print(show_env())\n",
        "print(f\"runid: {runid}\")"
      ],
      "execution_count": 14,
      "outputs": [
        {
          "output_type": "stream",
          "text": [
            "Host: None_d9a474a6307f\n",
            "OS: Linux d9a474a6307f 4.14.137+ #1 SMP Thu Aug 8 02:47:02 PDT 2019 x86_64 x86_64 x86_64 GNU/Linux\n",
            "Python: 3.6.9 (default, Nov  7 2019, 10:44:02) \n",
            "[GCC 8.3.0]\n",
            "Tensorflow: 2.1.0-rc1\n",
            "GPU: available\n",
            "GPU 0: Tesla T4 (UUID: GPU-928ea7a2-8b86-d30f-bd95-77b56db58f98)\n",
            "Keras: 2.2.4-tf\n",
            "TFHub: 0.7.0\n",
            "runid: NNLM_50_es_n-v1-200118_1906\n"
          ],
          "name": "stdout"
        }
      ]
    },
    {
      "cell_type": "code",
      "metadata": {
        "id": "E0D-4PDcKLsy",
        "colab_type": "code",
        "outputId": "5228dc4a-67e2-4266-9d5d-251503130f97",
        "colab": {
          "base_uri": "https://localhost:8080/",
          "height": 646
        }
      },
      "source": [
        "print('Training...')\n",
        "\n",
        "tensorboard = TensorBoard(log_dir=EC[\"EXPERIMENT-LOG_DIR\"])\n",
        "checkpoint = ModelCheckpoint(EC[\"EXPERIMENT-BEST_MODEL_FN\"], \n",
        "                             monitor='val_loss',\n",
        "                             verbose=1, save_best_only=True, mode=\"min\")\n",
        "\n",
        "# train\n",
        "t0 = time.time()\n",
        "EC[\"EXPERIMENT-STARTED_AT\"] = t0\n",
        "print(\"Start:\" + time.strftime(\"%Y%m%d_%H%M\", time.localtime()))\n",
        "history = model.fit(np.array(training_set_data), \n",
        "          training_set_labels,\n",
        "          batch_size = EC[\"TRAIN-BATCH_SIZE\"],\n",
        "          epochs = EC[\"TRAIN-EPOCHS\"],\n",
        "          initial_epoch = EC[\"TRAIN-INITIAL_EPOCH\"],\n",
        "          validation_split = EC[\"TRAIN-VALIDATION_SET_SPLIT\"],\n",
        "          verbose=1,\n",
        "          callbacks=[tensorboard, checkpoint])\n",
        "\n",
        "tfin = time.time()\n",
        "EC[\"EXPERIMENT-FINISHED_AT\"] = tfin\n",
        "print(\"End:\" + time.strftime(\"%Y%m%d_%H%M\",time.localtime()))\n",
        "ttook = tfin - t0 \n",
        "EC[\"EXPERIMENT-TRAINIG_TOOK\"] = ttook\n",
        "print(f\"{ttook} sec, {ttook/60} min, {ttook/3600} hrs\")"
      ],
      "execution_count": 15,
      "outputs": [
        {
          "output_type": "stream",
          "text": [
            "Training...\n",
            "Start:20200118_1906\n",
            "Train on 9490500 samples, validate on 9500 samples\n",
            "Epoch 1/8\n",
            "9489408/9490500 [============================>.] - ETA: 0s - loss: 1.1300\n",
            "Epoch 00001: val_loss improved from inf to 0.77506, saving model to saved_models/NNLM_50_es_n-v1-200118_1906/model.hdf5\n",
            "9490500/9490500 [==============================] - 326s 34us/sample - loss: 1.1299 - val_loss: 0.7751\n",
            "Epoch 2/8\n",
            "9489408/9490500 [============================>.] - ETA: 0s - loss: 0.7639\n",
            "Epoch 00002: val_loss improved from 0.77506 to 0.71066, saving model to saved_models/NNLM_50_es_n-v1-200118_1906/model.hdf5\n",
            "9490500/9490500 [==============================] - 323s 34us/sample - loss: 0.7639 - val_loss: 0.7107\n",
            "Epoch 3/8\n",
            "9489408/9490500 [============================>.] - ETA: 0s - loss: 0.7043\n",
            "Epoch 00003: val_loss improved from 0.71066 to 0.69278, saving model to saved_models/NNLM_50_es_n-v1-200118_1906/model.hdf5\n",
            "9490500/9490500 [==============================] - 323s 34us/sample - loss: 0.7043 - val_loss: 0.6928\n",
            "Epoch 4/8\n",
            "9489408/9490500 [============================>.] - ETA: 0s - loss: 0.6721\n",
            "Epoch 00004: val_loss improved from 0.69278 to 0.68333, saving model to saved_models/NNLM_50_es_n-v1-200118_1906/model.hdf5\n",
            "9490500/9490500 [==============================] - 323s 34us/sample - loss: 0.6721 - val_loss: 0.6833\n",
            "Epoch 5/8\n",
            "9490432/9490500 [============================>.] - ETA: 0s - loss: 0.6511\n",
            "Epoch 00005: val_loss did not improve from 0.68333\n",
            "9490500/9490500 [==============================] - 321s 34us/sample - loss: 0.6511 - val_loss: 0.6836\n",
            "Epoch 6/8\n",
            "9489408/9490500 [============================>.] - ETA: 0s - loss: 0.6363\n",
            "Epoch 00006: val_loss improved from 0.68333 to 0.67852, saving model to saved_models/NNLM_50_es_n-v1-200118_1906/model.hdf5\n",
            "9490500/9490500 [==============================] - 326s 34us/sample - loss: 0.6363 - val_loss: 0.6785\n",
            "Epoch 7/8\n",
            "9489408/9490500 [============================>.] - ETA: 0s - loss: 0.6253\n",
            "Epoch 00007: val_loss improved from 0.67852 to 0.67437, saving model to saved_models/NNLM_50_es_n-v1-200118_1906/model.hdf5\n",
            "9490500/9490500 [==============================] - 327s 34us/sample - loss: 0.6253 - val_loss: 0.6744\n",
            "Epoch 8/8\n",
            "9490432/9490500 [============================>.] - ETA: 0s - loss: 0.6167\n",
            "Epoch 00008: val_loss did not improve from 0.67437\n",
            "9490500/9490500 [==============================] - 325s 34us/sample - loss: 0.6167 - val_loss: 0.6809\n",
            "End:20200118_1949\n",
            "2598.44030046463 sec, 43.30733834107717 min, 0.7217889723512861 hrs\n"
          ],
          "name": "stdout"
        }
      ]
    },
    {
      "cell_type": "code",
      "metadata": {
        "id": "jtGI4GzjKLs0",
        "colab_type": "code",
        "colab": {}
      },
      "source": [
        "EC[\"RESULTS-HISTORIES\"].append(history.history)"
      ],
      "execution_count": 0,
      "outputs": []
    },
    {
      "cell_type": "markdown",
      "metadata": {
        "id": "0o4qDxyZKLs3",
        "colab_type": "text"
      },
      "source": [
        "## Test"
      ]
    },
    {
      "cell_type": "code",
      "metadata": {
        "id": "hEJBZC4FKLs4",
        "colab_type": "code",
        "outputId": "b93fc1f2-e3c6-4523-cc2e-8910f23afee5",
        "colab": {
          "base_uri": "https://localhost:8080/",
          "height": 51
        }
      },
      "source": [
        "#Use last model\n",
        "analysis_model = model\n",
        "#Load best model\n",
        "#analysis_model = tf.keras.models.load_model(directory+\"/model.hdf5\", \n",
        "#                                            custom_objects={\n",
        "#                                                \"KerasLayer\":hub_layer\n",
        "#                                            })\n",
        "print(\"Predict:\")\n",
        "predictions = analysis_model.predict(np.array(test_set_data), verbose=1)"
      ],
      "execution_count": 17,
      "outputs": [
        {
          "output_type": "stream",
          "text": [
            "Predict:\n",
            "500000/500000 [==============================] - 43s 86us/sample\n"
          ],
          "name": "stdout"
        }
      ]
    },
    {
      "cell_type": "code",
      "metadata": {
        "scrolled": true,
        "id": "M1pCa6AwKLs7",
        "colab_type": "code",
        "colab": {}
      },
      "source": [
        "#predictions[0]"
      ],
      "execution_count": 0,
      "outputs": []
    },
    {
      "cell_type": "code",
      "metadata": {
        "scrolled": true,
        "id": "Ec5zBsavKLs9",
        "colab_type": "code",
        "colab": {}
      },
      "source": [
        "inverse_cat_dict = dict(zip(cat_dict.values(), cat_dict.keys()))\n",
        "predicted_categories = [inverse_cat_dict[np.argmax(p)] for p in predictions]\n",
        "#predicted_categories"
      ],
      "execution_count": 0,
      "outputs": []
    },
    {
      "cell_type": "code",
      "metadata": {
        "scrolled": true,
        "id": "k6tKZ0AiKLtA",
        "colab_type": "code",
        "colab": {}
      },
      "source": [
        "real_categories = [inverse_cat_dict[p] for p in test_set_labels]\n",
        "#real_categories"
      ],
      "execution_count": 0,
      "outputs": []
    },
    {
      "cell_type": "markdown",
      "metadata": {
        "id": "1K7uUl8vKLtF",
        "colab_type": "text"
      },
      "source": [
        "### Balanced Accuracy"
      ]
    },
    {
      "cell_type": "code",
      "metadata": {
        "id": "eqsnMpusKLtG",
        "colab_type": "code",
        "outputId": "62635345-e979-4201-87b9-41e35ee6ea20",
        "colab": {
          "base_uri": "https://localhost:8080/",
          "height": 34
        }
      },
      "source": [
        "bac = balanced_accuracy_score(real_categories, predicted_categories)\n",
        "EC[\"RESULTS-BALANCED_ACCURACY\"] = bac\n",
        "bac"
      ],
      "execution_count": 21,
      "outputs": [
        {
          "output_type": "execute_result",
          "data": {
            "text/plain": [
              "0.8122982330010587"
            ]
          },
          "metadata": {
            "tags": []
          },
          "execution_count": 21
        }
      ]
    },
    {
      "cell_type": "markdown",
      "metadata": {
        "id": "G7XoU-gkKLtJ",
        "colab_type": "text"
      },
      "source": [
        "### Save results with metadata"
      ]
    },
    {
      "cell_type": "code",
      "metadata": {
        "id": "39YzmSAIKLtK",
        "colab_type": "code",
        "outputId": "ed1faed5-e32c-42c7-c0c7-05e100b6b344",
        "colab": {
          "base_uri": "https://localhost:8080/",
          "height": 1000
        }
      },
      "source": [
        "EC"
      ],
      "execution_count": 22,
      "outputs": [
        {
          "output_type": "execute_result",
          "data": {
            "text/plain": [
              "{'DATASET_FN': '/content/drive/My Drive/datasets/lang_model_eval/es-train.csv',\n",
              " 'EXPERIMENT-BEST_MODEL_FN': 'saved_models/NNLM_50_es_n-v1-200118_1906/model.hdf5',\n",
              " 'EXPERIMENT-ENVIRONMENT': ['Host: None_d9a474a6307f',\n",
              "  'OS: Linux d9a474a6307f 4.14.137+ #1 SMP Thu Aug 8 02:47:02 PDT 2019 x86_64 x86_64 x86_64 GNU/Linux',\n",
              "  'Python: 3.6.9 (default, Nov  7 2019, 10:44:02) \\n[GCC 8.3.0]',\n",
              "  'Tensorflow: 2.1.0-rc1',\n",
              "  'GPU: available',\n",
              "  'GPU 0: Tesla T4 (UUID: GPU-928ea7a2-8b86-d30f-bd95-77b56db58f98)',\n",
              "  'Keras: 2.2.4-tf',\n",
              "  'TFHub: 0.7.0'],\n",
              " 'EXPERIMENT-FINISHED_AT': 1579376965.1702156,\n",
              " 'EXPERIMENT-LOG_DIR': 'logs/NNLM_50_es_n-v1-200118_1906',\n",
              " 'EXPERIMENT-NAME': 'NNLM_50_es_n',\n",
              " 'EXPERIMENT-RUNID': 'NNLM_50_es_n-v1-200118_1906',\n",
              " 'EXPERIMENT-SAVE_DIR': 'saved_models/NNLM_50_es_n-v1-200118_1906',\n",
              " 'EXPERIMENT-STARTED_AT': 1579374366.7299151,\n",
              " 'EXPERIMENT-TRAINIG_TOOK': 2598.44030046463,\n",
              " 'EXPERIMENT-VERSION': 'v1',\n",
              " 'MODEL-DENSE_ACTIVATION': 'relu',\n",
              " 'MODEL-DENSE_DROPOUT_RATE': 0.25,\n",
              " 'MODEL-DENSE_UNITS': 512,\n",
              " 'MODEL-LM_IS_TRAINABLE': True,\n",
              " 'MODEL-LOSS': 'sparse_categorical_crossentropy',\n",
              " 'MODEL-OPTIMIZER': 'Adam',\n",
              " 'MODEL-SUMMARY': ['Model: \"NNLM_50_es_n-v1\"',\n",
              "  '_________________________________________________________________',\n",
              "  'Layer (type)                 Output Shape              Param #   ',\n",
              "  '=================================================================',\n",
              "  'LANG_MODEL (KerasLayer)      (None, 50)                48832000  ',\n",
              "  '_________________________________________________________________',\n",
              "  'DEN_1 (Dense)                (None, 512)               26112     ',\n",
              "  '_________________________________________________________________',\n",
              "  'DROP_1 (Dropout)             (None, 512)               0         ',\n",
              "  '_________________________________________________________________',\n",
              "  'DEN_2 (Dense)                (None, 512)               262656    ',\n",
              "  '_________________________________________________________________',\n",
              "  'DROP_2 (Dropout)             (None, 512)               0         ',\n",
              "  '_________________________________________________________________',\n",
              "  'DEN_OUT (Dense)              (None, 1574)              807462    ',\n",
              "  '=================================================================',\n",
              "  'Total params: 49,928,230',\n",
              "  'Trainable params: 49,928,230',\n",
              "  'Non-trainable params: 0',\n",
              "  '_________________________________________________________________'],\n",
              " 'RANDOM_SEED': 12348,\n",
              " 'RESULTS-BALANCED_ACCURACY': 0.8122982330010587,\n",
              " 'RESULTS-HISTORIES': [{'loss': [1.1299398463699992,\n",
              "    0.7638747754912187,\n",
              "    0.7042930333704411,\n",
              "    0.6721278504456354,\n",
              "    0.6510918471897109,\n",
              "    0.6362631314209418,\n",
              "    0.6253115038084699,\n",
              "    0.616686478091595],\n",
              "   'val_loss': [0.7750561717183967,\n",
              "    0.7106644253479807,\n",
              "    0.6927767342768217,\n",
              "    0.6833285295084903,\n",
              "    0.6835675471456427,\n",
              "    0.6785166971056085,\n",
              "    0.6743691468991732,\n",
              "    0.6809400314280861]}],\n",
              " 'ROWS_TO_LOAD': None,\n",
              " 'TEST_SET_SPLIT': 0.05,\n",
              " 'TFHUB-EMB_MODEL': 'https://tfhub.dev/google/nnlm-es-dim50-with-normalization/2',\n",
              " 'TFHUB-EMB_MODEL_DIM': 50,\n",
              " 'TRAIN-BATCH_SIZE': 1024,\n",
              " 'TRAIN-EPOCHS': 8,\n",
              " 'TRAIN-INITIAL_EPOCH': 0,\n",
              " 'TRAIN-VALIDATION_SET_SPLIT': 0.001}"
            ]
          },
          "metadata": {
            "tags": []
          },
          "execution_count": 22
        }
      ]
    },
    {
      "cell_type": "code",
      "metadata": {
        "id": "bMnnjkm0KLtM",
        "colab_type": "code",
        "colab": {}
      },
      "source": [
        "meta_fn = f\"{EC['EXPERIMENT-SAVE_DIR']}/experiment-metadata.json\"\n",
        "EC[\"EXPERIMENT-METADATA_FN\"] = meta_fn\n",
        "with open(meta_fn, \"wt\") as fo:\n",
        "    fo.write(json.dumps(EC))"
      ],
      "execution_count": 0,
      "outputs": []
    },
    {
      "cell_type": "markdown",
      "metadata": {
        "id": "k1AhqqqpKLtO",
        "colab_type": "text"
      },
      "source": [
        "### History graphs"
      ]
    },
    {
      "cell_type": "code",
      "metadata": {
        "id": "Dy4b6GNpKLtQ",
        "colab_type": "code",
        "outputId": "46308bd6-beb4-4a01-d83f-fad4abd608b4",
        "colab": {
          "base_uri": "https://localhost:8080/",
          "height": 295
        }
      },
      "source": [
        "history_dict = history.history\n",
        "loss = history_dict['loss']\n",
        "val_loss = history_dict['val_loss']\n",
        "epochs = range(1, len(loss) + 1)\n",
        "plt.plot(epochs, loss, 'r', label='Training loss')\n",
        "plt.plot(epochs, val_loss, 'b', label='Validation loss')\n",
        "plt.title('Training and validation loss')\n",
        "plt.xlabel('Epochs')\n",
        "plt.ylabel('Loss')\n",
        "plt.legend()\n",
        "\n",
        "plt.show()"
      ],
      "execution_count": 24,
      "outputs": [
        {
          "output_type": "display_data",
          "data": {
            "image/png": "[encoded data removed]",
            "text/plain": [
              "<Figure size 432x288 with 1 Axes>"
            ]
          },
          "metadata": {
            "tags": []
          }
        }
      ]
    },
    {
      "cell_type": "markdown",
      "metadata": {
        "id": "dHvsM_RZKLtS",
        "colab_type": "text"
      },
      "source": [
        "## Results Analysis"
      ]
    },
    {
      "cell_type": "code",
      "metadata": {
        "id": "aigyOM2TKLtT",
        "colab_type": "code",
        "colab": {}
      },
      "source": [
        "test = pd.DataFrame({\n",
        "    'title':np.array(test_set_data),\n",
        "    'real':real_categories,\n",
        "    'predicted':predicted_categories\n",
        "})\n",
        "#test"
      ],
      "execution_count": 0,
      "outputs": []
    },
    {
      "cell_type": "code",
      "metadata": {
        "id": "M5OIrFZfKLtV",
        "colab_type": "code",
        "outputId": "a056fa79-43c4-4825-e6b8-3b6981ea191a",
        "colab": {
          "base_uri": "https://localhost:8080/",
          "height": 1000
        }
      },
      "source": [
        "pd.options.display.max_rows = 50\n",
        "test.head(50)"
      ],
      "execution_count": 26,
      "outputs": [
        {
          "output_type": "execute_result",
          "data": {
            "text/html": [
              "<div>\n",
              "<style scoped>\n",
              "    .dataframe tbody tr th:only-of-type {\n",
              "        vertical-align: middle;\n",
              "    }\n",
              "\n",
              "    .dataframe tbody tr th {\n",
              "        vertical-align: top;\n",
              "    }\n",
              "\n",
              "    .dataframe thead th {\n",
              "        text-align: right;\n",
              "    }\n",
              "</style>\n",
              "<table border=\"1\" class=\"dataframe\">\n",
              "  <thead>\n",
              "    <tr style=\"text-align: right;\">\n",
              "      <th></th>\n",
              "      <th>title</th>\n",
              "      <th>real</th>\n",
              "      <th>predicted</th>\n",
              "    </tr>\n",
              "  </thead>\n",
              "  <tbody>\n",
              "    <tr>\n",
              "      <th>0</th>\n",
              "      <td>Apple Mac Mini I5 (mid 2011) 2.3 Ghz Impecable...</td>\n",
              "      <td>MINI_PCS</td>\n",
              "      <td>MINI_PCS</td>\n",
              "    </tr>\n",
              "    <tr>\n",
              "      <th>1</th>\n",
              "      <td>Carabina 22 Diana</td>\n",
              "      <td>AIRSOFT_GUNS</td>\n",
              "      <td>AIRSOFT_GUNS</td>\n",
              "    </tr>\n",
              "    <tr>\n",
              "      <th>2</th>\n",
              "      <td>Z Bieleta Delantera Izquierda Peugeot 504 Gr-g...</td>\n",
              "      <td>SWAY_BAR_LINKS</td>\n",
              "      <td>SWAY_BAR_LINKS</td>\n",
              "    </tr>\n",
              "    <tr>\n",
              "      <th>3</th>\n",
              "      <td>Saaqaans Bsr-01 Maquinilla De Afeitar De Corte...</td>\n",
              "      <td>COMBS</td>\n",
              "      <td>SHAVING_MACHINES</td>\n",
              "    </tr>\n",
              "    <tr>\n",
              "      <th>4</th>\n",
              "      <td>Vino Valmont Tinto Caja X6 X750cc</td>\n",
              "      <td>WINES</td>\n",
              "      <td>WINES</td>\n",
              "    </tr>\n",
              "    <tr>\n",
              "      <th>5</th>\n",
              "      <td>Mecedora De Madera Marca Michael Thonet</td>\n",
              "      <td>SOFAS</td>\n",
              "      <td>ANTIQUE_CHAIRS</td>\n",
              "    </tr>\n",
              "    <tr>\n",
              "      <th>6</th>\n",
              "      <td>Tira De Led  Lj64-o3381a P/panel Lty400hl-04, ...</td>\n",
              "      <td>TV_REPLACEMENT_BACKLIGHT_LED_STRIPS</td>\n",
              "      <td>TV_REPLACEMENT_BACKLIGHT_LED_STRIPS</td>\n",
              "    </tr>\n",
              "    <tr>\n",
              "      <th>7</th>\n",
              "      <td>Cadena Ek Japon 428-118l Zanella Sapucai 125 (...</td>\n",
              "      <td>MOTORCYCLE_TRANSMISSION_KITS</td>\n",
              "      <td>MOTORCYCLE_DISTRIBUTION_CHAINS</td>\n",
              "    </tr>\n",
              "    <tr>\n",
              "      <th>8</th>\n",
              "      <td>Boligrafo Faber Castell Trilux X 10 Unidades</td>\n",
              "      <td>PENS</td>\n",
              "      <td>PENS</td>\n",
              "    </tr>\n",
              "    <tr>\n",
              "      <th>9</th>\n",
              "      <td>Cerradura Para Puerta Corrediza Kallay 5002</td>\n",
              "      <td>DOOR_AND_WINDOW_LOCKS</td>\n",
              "      <td>DOOR_AND_WINDOW_LOCKS</td>\n",
              "    </tr>\n",
              "    <tr>\n",
              "      <th>10</th>\n",
              "      <td>Ventana Aluminio 120x90 Vidrio 4mm  Cuotas!!</td>\n",
              "      <td>WINDOWS</td>\n",
              "      <td>WINDOWS</td>\n",
              "    </tr>\n",
              "    <tr>\n",
              "      <th>11</th>\n",
              "      <td>Pelota Afa 17 Argentum Omb adidas Sport 78 Tie...</td>\n",
              "      <td>FOOTBALL_BALLS</td>\n",
              "      <td>FOOTBALL_BALLS</td>\n",
              "    </tr>\n",
              "    <tr>\n",
              "      <th>12</th>\n",
              "      <td>Aspiradora Liliana La800 1800w Con Bolsa Tubos...</td>\n",
              "      <td>VACUUM_CLEANERS</td>\n",
              "      <td>VACUUM_CLEANERS</td>\n",
              "    </tr>\n",
              "    <tr>\n",
              "      <th>13</th>\n",
              "      <td>Campera De Bebe Nena</td>\n",
              "      <td>JACKETS_AND_COATS</td>\n",
              "      <td>JACKETS_AND_COATS</td>\n",
              "    </tr>\n",
              "    <tr>\n",
              "      <th>14</th>\n",
              "      <td>Gearwrench 8940 Juego De Destornilladores De T...</td>\n",
              "      <td>PATIO_FURNITURE_SETS</td>\n",
              "      <td>SCREWDRIVERS_SETS</td>\n",
              "    </tr>\n",
              "    <tr>\n",
              "      <th>15</th>\n",
              "      <td>Peluche Robot Artesanal Altísima Calidad Tiern...</td>\n",
              "      <td>STUFFED_TOYS</td>\n",
              "      <td>STUFFED_TOYS</td>\n",
              "    </tr>\n",
              "    <tr>\n",
              "      <th>16</th>\n",
              "      <td>Balanza Systel Clipse 30kg Con Bateria</td>\n",
              "      <td>INDUSTRIAL_AND_COMMERCIAL_SCALES</td>\n",
              "      <td>INDUSTRIAL_AND_COMMERCIAL_SCALES</td>\n",
              "    </tr>\n",
              "    <tr>\n",
              "      <th>17</th>\n",
              "      <td>Maybelline Base De Maquillaje Pure Piel Grasa...</td>\n",
              "      <td>FOUNDATIONS</td>\n",
              "      <td>FOUNDATIONS</td>\n",
              "    </tr>\n",
              "    <tr>\n",
              "      <th>18</th>\n",
              "      <td>Red Futbol Tenis 3 Mts Playa Jardín Parque Par...</td>\n",
              "      <td>FOOTBALL_BALLS</td>\n",
              "      <td>FOOTBALL_GOALS</td>\n",
              "    </tr>\n",
              "    <tr>\n",
              "      <th>19</th>\n",
              "      <td>Cuaderno A5 -línea París / Londres- Encuaderna...</td>\n",
              "      <td>NOTEBOOKS_AND_WRITING_PADS</td>\n",
              "      <td>NOTEBOOKS_AND_WRITING_PADS</td>\n",
              "    </tr>\n",
              "    <tr>\n",
              "      <th>20</th>\n",
              "      <td>Termogel - Lidherma Caballito</td>\n",
              "      <td>BODY_SKIN_CARE_PRODUCTS</td>\n",
              "      <td>FACIAL_SKIN_CARE_PRODUCTS</td>\n",
              "    </tr>\n",
              "    <tr>\n",
              "      <th>21</th>\n",
              "      <td>Parrilla De Suspencion Peugeot 206/ 207 X 2</td>\n",
              "      <td>AUTOMOTIVE_SUSPENSION_CONTROL_ARMS</td>\n",
              "      <td>AUTOMOTIVE_SUSPENSION_CONTROL_ARMS</td>\n",
              "    </tr>\n",
              "    <tr>\n",
              "      <th>22</th>\n",
              "      <td>Almohadón Silla Algarrobo Lolafajna X6u 40x5cm...</td>\n",
              "      <td>CUSHIONS</td>\n",
              "      <td>CUSHIONS</td>\n",
              "    </tr>\n",
              "    <tr>\n",
              "      <th>23</th>\n",
              "      <td>Kit De Airbag De Fox,suran Msi Original</td>\n",
              "      <td>AIRBAGS</td>\n",
              "      <td>AIRBAGS</td>\n",
              "    </tr>\n",
              "    <tr>\n",
              "      <th>24</th>\n",
              "      <td>Kit De Limpieza Clarinete Conn-selmer Wood Cla...</td>\n",
              "      <td>CLARINETS</td>\n",
              "      <td>CLARINETS</td>\n",
              "    </tr>\n",
              "    <tr>\n",
              "      <th>25</th>\n",
              "      <td>Amortiguador Trasero Yamaha Ybr 125 Original C...</td>\n",
              "      <td>MOTORCYCLE_SHOCK_ABSORBERS</td>\n",
              "      <td>MOTORCYCLE_SHOCK_ABSORBERS</td>\n",
              "    </tr>\n",
              "    <tr>\n",
              "      <th>26</th>\n",
              "      <td>Faro Actros 11/ Lateral Ambar Izquierdo</td>\n",
              "      <td>CAR_TURN_SIGNAL_LIGHTS</td>\n",
              "      <td>CAR_TURN_SIGNAL_LIGHTS</td>\n",
              "    </tr>\n",
              "    <tr>\n",
              "      <th>27</th>\n",
              "      <td>Anillo Pene Vibrador Recargable Oyeah</td>\n",
              "      <td>PENIS_RINGS</td>\n",
              "      <td>PENIS_RINGS</td>\n",
              "    </tr>\n",
              "    <tr>\n",
              "      <th>28</th>\n",
              "      <td>Exprimidor Windmere Ja200! Cencor Electrónica ...</td>\n",
              "      <td>SQUEEZERS</td>\n",
              "      <td>WATER_HEATERS</td>\n",
              "    </tr>\n",
              "    <tr>\n",
              "      <th>29</th>\n",
              "      <td>Mini Figuras De Plantas Vs Zombies X 8</td>\n",
              "      <td>ACTION_FIGURES</td>\n",
              "      <td>ACTION_FIGURES</td>\n",
              "    </tr>\n",
              "    <tr>\n",
              "      <th>30</th>\n",
              "      <td>Rollo De Cuerda Hacker Polytag Green 1.23 / 1....</td>\n",
              "      <td>RACKET_STRINGS</td>\n",
              "      <td>RACKET_STRINGS</td>\n",
              "    </tr>\n",
              "    <tr>\n",
              "      <th>31</th>\n",
              "      <td>Cable Delgado Hmdi De Alta Velocidad Bell'o Di...</td>\n",
              "      <td>AUDIO_AND_VIDEO_CABLES_AND_ADAPTERS</td>\n",
              "      <td>AUDIO_AND_VIDEO_CABLES_AND_ADAPTERS</td>\n",
              "    </tr>\n",
              "    <tr>\n",
              "      <th>32</th>\n",
              "      <td>Lubricante Shell Spirax S1 Atf Taza 4lts</td>\n",
              "      <td>ENGINE_OILS</td>\n",
              "      <td>ENGINE_OILS</td>\n",
              "    </tr>\n",
              "    <tr>\n",
              "      <th>33</th>\n",
              "      <td>Carro Zorra Stanley 200 Kg Plataforma Acero Sx...</td>\n",
              "      <td>HAND_TRUCKS</td>\n",
              "      <td>HAND_TRUCKS</td>\n",
              "    </tr>\n",
              "    <tr>\n",
              "      <th>34</th>\n",
              "      <td>Arranque Case 1450b 504 Unipoint</td>\n",
              "      <td>STARTERS</td>\n",
              "      <td>STARTERS</td>\n",
              "    </tr>\n",
              "    <tr>\n",
              "      <th>35</th>\n",
              "      <td>Cooler Titan Para Atlon Xp</td>\n",
              "      <td>DESKTOP_COMPUTER_COOLERS_AND_FANS</td>\n",
              "      <td>DESKTOP_COMPUTER_COOLERS_AND_FANS</td>\n",
              "    </tr>\n",
              "    <tr>\n",
              "      <th>36</th>\n",
              "      <td>Planchita Para Pelo Remington S5505cp Garantia</td>\n",
              "      <td>HAIR_STRAIGHTENERS</td>\n",
              "      <td>HAIR_STRAIGHTENERS</td>\n",
              "    </tr>\n",
              "    <tr>\n",
              "      <th>37</th>\n",
              "      <td>Máscara Facial Swiss Eye Neoprene Con Lentes I...</td>\n",
              "      <td>FACE_MASKS</td>\n",
              "      <td>GLASSES_FRAMES</td>\n",
              "    </tr>\n",
              "    <tr>\n",
              "      <th>38</th>\n",
              "      <td>Carretel De Repuesto Reel Tech Long Casting Y ...</td>\n",
              "      <td>FISHING_REELS</td>\n",
              "      <td>FISHING_REELS</td>\n",
              "    </tr>\n",
              "    <tr>\n",
              "      <th>39</th>\n",
              "      <td>Tablet Samsung Tab E Sm-t113</td>\n",
              "      <td>TABLETS</td>\n",
              "      <td>TABLETS</td>\n",
              "    </tr>\n",
              "    <tr>\n",
              "      <th>40</th>\n",
              "      <td>Gin Beefeater 750ml Recoleta</td>\n",
              "      <td>GINS</td>\n",
              "      <td>GINS</td>\n",
              "    </tr>\n",
              "    <tr>\n",
              "      <th>41</th>\n",
              "      <td>Pantalla Notebook Acer Aspire 5551 Nueva Con G...</td>\n",
              "      <td>LAPTOP_LCD_SCREENS</td>\n",
              "      <td>LAPTOP_LCD_SCREENS</td>\n",
              "    </tr>\n",
              "    <tr>\n",
              "      <th>42</th>\n",
              "      <td>Camara Principal Blu Vivo Xl V0030uu</td>\n",
              "      <td>CELLPHONE_REPLACEMENT_CAMERAS</td>\n",
              "      <td>CELLPHONE_REPLACEMENT_CAMERAS</td>\n",
              "    </tr>\n",
              "    <tr>\n",
              "      <th>43</th>\n",
              "      <td>Saxo Master Class A Todo El Pais 9567d</td>\n",
              "      <td>SAXOPHONES</td>\n",
              "      <td>SAXOPHONES</td>\n",
              "    </tr>\n",
              "    <tr>\n",
              "      <th>44</th>\n",
              "      <td>Caretas Máscaras Famosos +300 Personajes. Lili...</td>\n",
              "      <td>PARTY_MASKS</td>\n",
              "      <td>PARTY_MASKS</td>\n",
              "    </tr>\n",
              "    <tr>\n",
              "      <th>45</th>\n",
              "      <td>Tanque De Nafta Puch 150 Del 63</td>\n",
              "      <td>MOTORCYCLE_GASOLINE_TANKS</td>\n",
              "      <td>MOTORCYCLE_GASOLINE_TANKS</td>\n",
              "    </tr>\n",
              "    <tr>\n",
              "      <th>46</th>\n",
              "      <td>Papel Muresco Urban Home 4712/2 Vinilico</td>\n",
              "      <td>WALLPAPERS</td>\n",
              "      <td>WALLPAPERS</td>\n",
              "    </tr>\n",
              "    <tr>\n",
              "      <th>47</th>\n",
              "      <td>Teclado Korg Kross 61</td>\n",
              "      <td>MUSICAL_KEYBOARDS</td>\n",
              "      <td>MUSICAL_KEYBOARDS</td>\n",
              "    </tr>\n",
              "    <tr>\n",
              "      <th>48</th>\n",
              "      <td>Trenes Y Tractores De Madera</td>\n",
              "      <td>TOY_TRAINS</td>\n",
              "      <td>TOY_TRAINS</td>\n",
              "    </tr>\n",
              "    <tr>\n",
              "      <th>49</th>\n",
              "      <td>Césped Cervato Custom Arte Dies - Sombreros Ap...</td>\n",
              "      <td>SODS</td>\n",
              "      <td>ACTION_FIGURES</td>\n",
              "    </tr>\n",
              "  </tbody>\n",
              "</table>\n",
              "</div>"
            ],
            "text/plain": [
              "                                                title  ...                            predicted\n",
              "0   Apple Mac Mini I5 (mid 2011) 2.3 Ghz Impecable...  ...                             MINI_PCS\n",
              "1                                   Carabina 22 Diana  ...                         AIRSOFT_GUNS\n",
              "2   Z Bieleta Delantera Izquierda Peugeot 504 Gr-g...  ...                       SWAY_BAR_LINKS\n",
              "3   Saaqaans Bsr-01 Maquinilla De Afeitar De Corte...  ...                     SHAVING_MACHINES\n",
              "4                   Vino Valmont Tinto Caja X6 X750cc  ...                                WINES\n",
              "5             Mecedora De Madera Marca Michael Thonet  ...                       ANTIQUE_CHAIRS\n",
              "6   Tira De Led  Lj64-o3381a P/panel Lty400hl-04, ...  ...  TV_REPLACEMENT_BACKLIGHT_LED_STRIPS\n",
              "7   Cadena Ek Japon 428-118l Zanella Sapucai 125 (...  ...       MOTORCYCLE_DISTRIBUTION_CHAINS\n",
              "8        Boligrafo Faber Castell Trilux X 10 Unidades  ...                                 PENS\n",
              "9         Cerradura Para Puerta Corrediza Kallay 5002  ...                DOOR_AND_WINDOW_LOCKS\n",
              "10       Ventana Aluminio 120x90 Vidrio 4mm  Cuotas!!  ...                              WINDOWS\n",
              "11  Pelota Afa 17 Argentum Omb adidas Sport 78 Tie...  ...                       FOOTBALL_BALLS\n",
              "12  Aspiradora Liliana La800 1800w Con Bolsa Tubos...  ...                      VACUUM_CLEANERS\n",
              "13                              Campera De Bebe Nena   ...                    JACKETS_AND_COATS\n",
              "14  Gearwrench 8940 Juego De Destornilladores De T...  ...                    SCREWDRIVERS_SETS\n",
              "15  Peluche Robot Artesanal Altísima Calidad Tiern...  ...                         STUFFED_TOYS\n",
              "16             Balanza Systel Clipse 30kg Con Bateria  ...     INDUSTRIAL_AND_COMMERCIAL_SCALES\n",
              "17   Maybelline Base De Maquillaje Pure Piel Grasa...  ...                          FOUNDATIONS\n",
              "18  Red Futbol Tenis 3 Mts Playa Jardín Parque Par...  ...                       FOOTBALL_GOALS\n",
              "19  Cuaderno A5 -línea París / Londres- Encuaderna...  ...           NOTEBOOKS_AND_WRITING_PADS\n",
              "20                      Termogel - Lidherma Caballito  ...            FACIAL_SKIN_CARE_PRODUCTS\n",
              "21        Parrilla De Suspencion Peugeot 206/ 207 X 2  ...   AUTOMOTIVE_SUSPENSION_CONTROL_ARMS\n",
              "22  Almohadón Silla Algarrobo Lolafajna X6u 40x5cm...  ...                             CUSHIONS\n",
              "23            Kit De Airbag De Fox,suran Msi Original  ...                              AIRBAGS\n",
              "24  Kit De Limpieza Clarinete Conn-selmer Wood Cla...  ...                            CLARINETS\n",
              "25  Amortiguador Trasero Yamaha Ybr 125 Original C...  ...           MOTORCYCLE_SHOCK_ABSORBERS\n",
              "26            Faro Actros 11/ Lateral Ambar Izquierdo  ...               CAR_TURN_SIGNAL_LIGHTS\n",
              "27              Anillo Pene Vibrador Recargable Oyeah  ...                          PENIS_RINGS\n",
              "28  Exprimidor Windmere Ja200! Cencor Electrónica ...  ...                        WATER_HEATERS\n",
              "29             Mini Figuras De Plantas Vs Zombies X 8  ...                       ACTION_FIGURES\n",
              "30  Rollo De Cuerda Hacker Polytag Green 1.23 / 1....  ...                       RACKET_STRINGS\n",
              "31  Cable Delgado Hmdi De Alta Velocidad Bell'o Di...  ...  AUDIO_AND_VIDEO_CABLES_AND_ADAPTERS\n",
              "32           Lubricante Shell Spirax S1 Atf Taza 4lts  ...                          ENGINE_OILS\n",
              "33  Carro Zorra Stanley 200 Kg Plataforma Acero Sx...  ...                          HAND_TRUCKS\n",
              "34                   Arranque Case 1450b 504 Unipoint  ...                             STARTERS\n",
              "35                         Cooler Titan Para Atlon Xp  ...    DESKTOP_COMPUTER_COOLERS_AND_FANS\n",
              "36     Planchita Para Pelo Remington S5505cp Garantia  ...                   HAIR_STRAIGHTENERS\n",
              "37  Máscara Facial Swiss Eye Neoprene Con Lentes I...  ...                       GLASSES_FRAMES\n",
              "38  Carretel De Repuesto Reel Tech Long Casting Y ...  ...                        FISHING_REELS\n",
              "39                       Tablet Samsung Tab E Sm-t113  ...                              TABLETS\n",
              "40                       Gin Beefeater 750ml Recoleta  ...                                 GINS\n",
              "41  Pantalla Notebook Acer Aspire 5551 Nueva Con G...  ...                   LAPTOP_LCD_SCREENS\n",
              "42               Camara Principal Blu Vivo Xl V0030uu  ...        CELLPHONE_REPLACEMENT_CAMERAS\n",
              "43             Saxo Master Class A Todo El Pais 9567d  ...                           SAXOPHONES\n",
              "44  Caretas Máscaras Famosos +300 Personajes. Lili...  ...                          PARTY_MASKS\n",
              "45                    Tanque De Nafta Puch 150 Del 63  ...            MOTORCYCLE_GASOLINE_TANKS\n",
              "46           Papel Muresco Urban Home 4712/2 Vinilico  ...                           WALLPAPERS\n",
              "47                              Teclado Korg Kross 61  ...                    MUSICAL_KEYBOARDS\n",
              "48                       Trenes Y Tractores De Madera  ...                           TOY_TRAINS\n",
              "49  Césped Cervato Custom Arte Dies - Sombreros Ap...  ...                       ACTION_FIGURES\n",
              "\n",
              "[50 rows x 3 columns]"
            ]
          },
          "metadata": {
            "tags": []
          },
          "execution_count": 26
        }
      ]
    },
    {
      "cell_type": "code",
      "metadata": {
        "id": "64dVyQpZKLtY",
        "colab_type": "code",
        "colab": {}
      },
      "source": [
        "test.to_csv(directory+\"/test-results.csv\", index=False)"
      ],
      "execution_count": 0,
      "outputs": []
    },
    {
      "cell_type": "code",
      "metadata": {
        "id": "eBJlEBW-KLta",
        "colab_type": "code",
        "colab": {}
      },
      "source": [
        "with open(directory+\"/inverse_cat_dict.pickle\", \"wb\") as fo:\n",
        "    pickle.dump(inverse_cat_dict, fo)"
      ],
      "execution_count": 0,
      "outputs": []
    },
    {
      "cell_type": "code",
      "metadata": {
        "id": "dB_MyEqLKLtd",
        "colab_type": "code",
        "colab": {}
      },
      "source": [
        "with open(directory+\"/predictions.pickle\", \"wb\") as fo:\n",
        "    pickle.dump(predictions, fo)"
      ],
      "execution_count": 0,
      "outputs": []
    }
  ]
}