{
 "cells": [
  {
   "cell_type": "markdown",
   "metadata": {
    "colab_type": "text",
    "id": "view-in-github"
   },
   "source": [
    "<a href=\"https://colab.research.google.com/github/eduardofv/lang_model_eval/blob/master/base-colab.ipynb\" target=\"_parent\"><img src=\"https://colab.research.google.com/assets/colab-badge.svg\" alt=\"Open In Colab\"/></a>"
   ]
  },
  {
   "cell_type": "markdown",
   "metadata": {
    "colab_type": "text",
    "id": "vClH3pInKLsA"
   },
   "source": [
    "# Language Model Evaluation"
   ]
  },
  {
   "cell_type": "code",
   "execution_count": 0,
   "metadata": {
    "colab": {
     "base_uri": "https://localhost:8080/",
     "height": 34
    },
    "colab_type": "code",
    "id": "-RUhH0OjOj8F",
    "outputId": "a9f84c21-4950-4dc0-a221-16f73310d14e"
   },
   "outputs": [
    {
     "name": "stdout",
     "output_type": "stream",
     "text": [
      "TensorFlow 2.x selected.\n"
     ]
    }
   ],
   "source": [
    "%tensorflow_version 2.x"
   ]
  },
  {
   "cell_type": "code",
   "execution_count": 0,
   "metadata": {
    "colab": {},
    "colab_type": "code",
    "id": "pRGcQQC_KLsC"
   },
   "outputs": [],
   "source": [
    "EXPERIMENT_CONFIG = {\n",
    "    \"EXPERIMENT-NAME\": \"base\", \n",
    "    \"EXPERIMENT-VERSION\": \"v1\",\n",
    "}"
   ]
  },
  {
   "cell_type": "markdown",
   "metadata": {
    "colab_type": "text",
    "id": "Va_KsePHKLsG"
   },
   "source": [
    "## Version log\n",
    "\n",
    "### base\n",
    "\n",
    "Punto de partida\n"
   ]
  },
  {
   "cell_type": "markdown",
   "metadata": {
    "colab_type": "text",
    "id": "9iWCSb8LKLsH"
   },
   "source": [
    "## Development"
   ]
  },
  {
   "cell_type": "markdown",
   "metadata": {
    "colab_type": "text",
    "id": "edcEBpUkKLsI"
   },
   "source": [
    "### Initialize"
   ]
  },
  {
   "cell_type": "code",
   "execution_count": 0,
   "metadata": {
    "colab": {},
    "colab_type": "code",
    "id": "sJWbZ-wQKLsJ"
   },
   "outputs": [],
   "source": [
    "%matplotlib inline\n",
    "\n",
    "import sys\n",
    "import os\n",
    "\n",
    "import time\n",
    "import pickle\n",
    "import json\n",
    "import numpy as np\n",
    "import pandas as pd\n",
    "import matplotlib.pyplot as plt\n",
    "\n",
    "import tensorflow as tf\n",
    "import tensorflow.keras as k\n",
    "import tensorflow_hub as hub\n",
    "\n",
    "from tensorflow.keras.models import Sequential\n",
    "from tensorflow.keras.layers import Embedding, LSTM, Bidirectional, Dense, Dropout\n",
    "from tensorflow.keras.optimizers import RMSprop\n",
    "from tensorflow.keras.callbacks import TensorBoard, ModelCheckpoint\n",
    "from tensorflow.keras.utils import to_categorical\n",
    "\n",
    "from sklearn.metrics import balanced_accuracy_score"
   ]
  },
  {
   "cell_type": "code",
   "execution_count": 0,
   "metadata": {
    "colab": {
     "base_uri": "https://localhost:8080/",
     "height": 88
    },
    "colab_type": "code",
    "id": "wQY6DnBQKcYA",
    "outputId": "6d4fe253-3e08-4e30-e631-f8c2126575b5"
   },
   "outputs": [
    {
     "name": "stdout",
     "output_type": "stream",
     "text": [
      "Drive already mounted at /content/drive; to attempt to forcibly remount, call drive.mount(\"/content/drive\", force_remount=True).\n",
      "mkdir: cannot create directory ‘logs’: File exists\n",
      "mkdir: cannot create directory ‘saved_models’: File exists\n"
     ]
    }
   ],
   "source": [
    "DATA_DIR = \"../data\"\n",
    "LOG_DIR = \"../logs\"\n",
    "SAVED_MODEL_DIR = \"../saved_models\"\n",
    "\n",
    "IN_COLAB = 'google.colab' in sys.modules\n",
    "if IN_COLAB:\n",
    "  from google.colab import drive\n",
    "  drive.mount('/content/drive')\n",
    "  DATA_DIR = \"/content/drive/My Drive/datasets/lang_model_eval\"\n",
    "  LOG_DIR = \"logs\"\n",
    "  SAVED_MODEL_DIR = \"saved_models\"\n",
    "  !mkdir logs\n",
    "  !mkdir saved_models"
   ]
  },
  {
   "cell_type": "markdown",
   "metadata": {
    "colab_type": "text",
    "id": "8eSfOOFyKLsM"
   },
   "source": [
    "### Experiment Config"
   ]
  },
  {
   "cell_type": "code",
   "execution_count": 0,
   "metadata": {
    "colab": {},
    "colab_type": "code",
    "id": "gu0lDl5EKLsN"
   },
   "outputs": [],
   "source": [
    "EC = EXPERIMENT_CONFIG\n",
    "\n",
    "EC[\"RANDOM_SEED\"] = 12348\n",
    "EC[\"DATASET_FN\"] = f\"{DATA_DIR}/es-train.csv\"\n",
    "EC[\"ROWS_TO_LOAD\"] = None#None == all \n",
    "# how much data will reserve for test set (of the DS prop to use) (0.10)\n",
    "EC[\"TEST_SET_SPLIT\"] = 0.002\n",
    "\n",
    "#TFHUB_EMB_MODEL = \"https://tfhub.dev/google/universal-sentence-encoder/2\" \n",
    "# download the module manually if network problems \n",
    "# like URLError: <urlopen error [Errno -3] Temporary failure in name resolution>\n",
    "# check https://www.tensorflow.org/hub/common_issues \n",
    "#TFHUB_EMB_MODEL = \"../tf_hub_cache/gnews-swivel-20dim-v1\"\n",
    "\n",
    "#TFHUB_EMB_MODEL = \"https://tfhub.dev/google/nnlm-es-dim50-with-normalization/2\" #\n",
    "#TFHUB_EMB_MODEL_DIM = 50\n",
    "EC[\"TFHUB-EMB_MODEL\"] = \"https://tfhub.dev/google/tf2-preview/nnlm-es-dim128-with-normalization/1\"\n",
    "EC[\"TFHUB-EMB_MODEL_DIM\"] = 128\n",
    "\n",
    "#Model parameters\n",
    "EC[\"MODEL-LM_IS_TRAINABLE\"] = True\n",
    "EC[\"MODEL-DENSE_UNITS\"] = 512\n",
    "EC[\"MODEL-DENSE_ACTIVATION\"] = \"relu\"\n",
    "EC[\"MODEL-DENSE_DROPOUT_RATE\"] = 0.25\n",
    "EC[\"MODEL-OPTIMIZER\"] = \"Adam\"\n",
    "EC[\"MODEL-LOSS\"] = 'sparse_categorical_crossentropy'\n",
    "\n",
    "#Train parameters\n",
    "EC[\"TRAIN-BATCH_SIZE\"] = 1024\n",
    "EC[\"TRAIN-EPOCHS\"] = 8\n",
    "EC[\"TRAIN-INITIAL_EPOCH\"] = 0\n",
    "# how much of the data will be used for validation (of the DS prop to use) (0.05)\n",
    "EC[\"TRAIN-VALIDATION_SET_SPLIT\"] = 0.0005\n",
    "\n",
    "EC[\"RESULTS-HISTORIES\"] = []\n",
    "\n",
    "# specify a small proportion to speed things while testing, 1.0 when running full training\n",
    "#DATASET_PROPORTION_TO_USE = 1.0"
   ]
  },
  {
   "cell_type": "code",
   "execution_count": 0,
   "metadata": {
    "colab": {},
    "colab_type": "code",
    "id": "rNcisGylKLsQ"
   },
   "outputs": [],
   "source": [
    "#initialize env\n",
    "#seeds to make reproducible\n",
    "#todo: check reproducibility\n",
    "np.random.seed(EC[\"RANDOM_SEED\"])\n",
    "tf.random.set_seed(EC[\"RANDOM_SEED\"])\n",
    "\n",
    "pd.options.display.max_rows = 10"
   ]
  },
  {
   "cell_type": "code",
   "execution_count": 0,
   "metadata": {
    "colab": {},
    "colab_type": "code",
    "id": "9tkIrPeJKLsT"
   },
   "outputs": [],
   "source": [
    "def show_env(as_string=True):\n",
    "    my_env = []\n",
    "    my_env.append(f\"Host: {os.getenv('HOST_HOSTNAME')}_{os.getenv('HOSTNAME')}\")\n",
    "    a = !uname -a\n",
    "    my_env.append(f\"OS: {a[0]}\")\n",
    "    my_env.append(f\"Python: {sys.version}\")\n",
    "    my_env.append(f\"Tensorflow: {tf.__version__}\")\n",
    "    if len(tf.config.list_physical_devices(\"GPU\")):\n",
    "        my_env.append(\"GPU: available\")\n",
    "        a=!nvidia-smi -L\n",
    "        my_env.append(\"\\n\".join(a))\n",
    "    else:\n",
    "        my_env.append(\"GPU: not available\")\n",
    "    my_env.append(f\"Keras: {tf.keras.__version__}\")\n",
    "    my_env.append(f\"TFHub: {hub.__version__}\")\n",
    "    if as_string:\n",
    "        my_env = \"\\n\".join(my_env)\n",
    "    return my_env"
   ]
  },
  {
   "cell_type": "markdown",
   "metadata": {
    "colab_type": "text",
    "id": "FgkHxpSgKLsW"
   },
   "source": [
    "## Load and prepare datasets"
   ]
  },
  {
   "cell_type": "code",
   "execution_count": 0,
   "metadata": {
    "colab": {
     "base_uri": "https://localhost:8080/",
     "height": 204
    },
    "colab_type": "code",
    "id": "d1oqpVN0KLsX",
    "outputId": "a3471a07-2d4b-47c3-c2b1-f19e26badfc4"
   },
   "outputs": [
    {
     "data": {
      "text/html": [
       "<div>\n",
       "<style scoped>\n",
       "    .dataframe tbody tr th:only-of-type {\n",
       "        vertical-align: middle;\n",
       "    }\n",
       "\n",
       "    .dataframe tbody tr th {\n",
       "        vertical-align: top;\n",
       "    }\n",
       "\n",
       "    .dataframe thead th {\n",
       "        text-align: right;\n",
       "    }\n",
       "</style>\n",
       "<table border=\"1\" class=\"dataframe\">\n",
       "  <thead>\n",
       "    <tr style=\"text-align: right;\">\n",
       "      <th></th>\n",
       "      <th>title</th>\n",
       "      <th>category</th>\n",
       "    </tr>\n",
       "  </thead>\n",
       "  <tbody>\n",
       "    <tr>\n",
       "      <th>0</th>\n",
       "      <td>Neumáticos Windforce 205r55r16 91v Catchgre Gp100</td>\n",
       "      <td>AUTOMOTIVE_TIRES</td>\n",
       "    </tr>\n",
       "    <tr>\n",
       "      <th>1</th>\n",
       "      <td>Colchoneta Con Cierre 1 X 0.5 X 0.04 M Quuz Azul</td>\n",
       "      <td>EXERCISE_MATS</td>\n",
       "    </tr>\n",
       "    <tr>\n",
       "      <th>2</th>\n",
       "      <td>Bomba De Freno Doble Circuito Fiat 125</td>\n",
       "      <td>BRAKE_MASTER_CYLINDERS</td>\n",
       "    </tr>\n",
       "    <tr>\n",
       "      <th>3</th>\n",
       "      <td>Lamparas H4 Osram.</td>\n",
       "      <td>CAR_LIGHT_BULBS</td>\n",
       "    </tr>\n",
       "    <tr>\n",
       "      <th>4</th>\n",
       "      <td>Sensor Rpm Posicion Ciguenal Arbol Bmw 323ti</td>\n",
       "      <td>CAR_ENGINE_CAMSHAFT_SENSORS</td>\n",
       "    </tr>\n",
       "  </tbody>\n",
       "</table>\n",
       "</div>"
      ],
      "text/plain": [
       "                                               title                     category\n",
       "0  Neumáticos Windforce 205r55r16 91v Catchgre Gp100             AUTOMOTIVE_TIRES\n",
       "1   Colchoneta Con Cierre 1 X 0.5 X 0.04 M Quuz Azul                EXERCISE_MATS\n",
       "2             Bomba De Freno Doble Circuito Fiat 125       BRAKE_MASTER_CYLINDERS\n",
       "3                                 Lamparas H4 Osram.              CAR_LIGHT_BULBS\n",
       "4       Sensor Rpm Posicion Ciguenal Arbol Bmw 323ti  CAR_ENGINE_CAMSHAFT_SENSORS"
      ]
     },
     "execution_count": 8,
     "metadata": {
      "tags": []
     },
     "output_type": "execute_result"
    }
   ],
   "source": [
    "df = pd.read_csv(EC['DATASET_FN'], \n",
    "                 nrows = EC['ROWS_TO_LOAD']).dropna(axis=0).sample(frac=1).reset_index()\n",
    "df = df[[\"title\", \"category\"]]\n",
    "df.head()"
   ]
  },
  {
   "cell_type": "code",
   "execution_count": 0,
   "metadata": {
    "colab": {
     "base_uri": "https://localhost:8080/",
     "height": 34
    },
    "colab_type": "code",
    "id": "DvdEBcEsKLsc",
    "outputId": "471c5db2-510a-4158-d32f-6fe59cfe0c16"
   },
   "outputs": [
    {
     "name": "stdout",
     "output_type": "stream",
     "text": [
      "Unique categories: 1574\n"
     ]
    }
   ],
   "source": [
    "output_dim = len(df[\"category\"].unique())\n",
    "print(f\"Unique categories: {output_dim}\")"
   ]
  },
  {
   "cell_type": "code",
   "execution_count": 0,
   "metadata": {
    "colab": {},
    "colab_type": "code",
    "id": "98QfwxDxKLsg"
   },
   "outputs": [],
   "source": [
    "cat_dict = dict(zip(df[\"category\"].unique(), np.arange(output_dim)))\n",
    "inverse_cat_dict = dict(zip(cat_dict.values(), cat_dict.keys()))\n",
    "labels = df[\"category\"].map(cat_dict)"
   ]
  },
  {
   "cell_type": "markdown",
   "metadata": {
    "colab_type": "text",
    "id": "xnrGBhIvKLsk"
   },
   "source": [
    "### Split datasets"
   ]
  },
  {
   "cell_type": "code",
   "execution_count": 0,
   "metadata": {
    "colab": {
     "base_uri": "https://localhost:8080/",
     "height": 85
    },
    "colab_type": "code",
    "id": "z03l7X0oKLsl",
    "outputId": "bbd1b253-c64b-4bbb-9094-c84e1b3a4c1e"
   },
   "outputs": [
    {
     "name": "stdout",
     "output_type": "stream",
     "text": [
      "Training set shape: (9980000,)\n",
      "Training labels shape: (9980000,)\n",
      "Test set shape: (20000,)\n",
      "Test labels shape: (20000,)\n"
     ]
    }
   ],
   "source": [
    "num_samples = len(df)\n",
    "num_test_samples = int(num_samples * EC[\"TEST_SET_SPLIT\"])\n",
    "num_training_samples = num_samples - num_test_samples\n",
    "\n",
    "training_set_data = df[\"title\"].head(num_training_samples)\n",
    "training_set_labels = labels[:num_training_samples]\n",
    "test_set_data = df[\"title\"].tail(num_test_samples)\n",
    "test_set_labels = labels[-num_test_samples:]\n",
    "\n",
    "print(f\"Training set shape: {training_set_data.shape}\")\n",
    "print(f\"Training labels shape: {training_set_labels.shape}\")\n",
    "print(f\"Test set shape: {test_set_data.shape}\")\n",
    "print(f\"Test labels shape: {test_set_labels.shape}\")"
   ]
  },
  {
   "cell_type": "markdown",
   "metadata": {
    "colab_type": "text",
    "id": "mQnK3ZYKKLsn"
   },
   "source": [
    "### Build Model"
   ]
  },
  {
   "cell_type": "code",
   "execution_count": 0,
   "metadata": {
    "colab": {},
    "colab_type": "code",
    "id": "T6ZUr9dMKLso"
   },
   "outputs": [],
   "source": [
    "## load TF Hub embedding module\n",
    "hub_layer = hub.KerasLayer(EC[\"TFHUB-EMB_MODEL\"], \n",
    "                           output_shape=[EC[\"TFHUB-EMB_MODEL_DIM\"]], \n",
    "                           input_shape=[], \n",
    "                           trainable=EC[\"MODEL-LM_IS_TRAINABLE\"], \n",
    "                           dtype=tf.string,\n",
    "                           name=\"LANG_MODEL\") \n",
    "#hub_layer(np.array(training_set_data[:3]))"
   ]
  },
  {
   "cell_type": "code",
   "execution_count": 0,
   "metadata": {
    "colab": {
     "base_uri": "https://localhost:8080/",
     "height": 357
    },
    "colab_type": "code",
    "id": "CbPGOcf_KLsr",
    "outputId": "bfe2e453-baf1-4463-b6e3-257958e3c715",
    "scrolled": false
   },
   "outputs": [
    {
     "name": "stdout",
     "output_type": "stream",
     "text": [
      "Model: \"base-v1\"\n",
      "_________________________________________________________________\n",
      "Layer (type)                 Output Shape              Param #   \n",
      "=================================================================\n",
      "LANG_MODEL (KerasLayer)      (None, 128)               125009920 \n",
      "_________________________________________________________________\n",
      "DEN_1 (Dense)                (None, 512)               66048     \n",
      "_________________________________________________________________\n",
      "DROP_1 (Dropout)             (None, 512)               0         \n",
      "_________________________________________________________________\n",
      "DEN_2 (Dense)                (None, 512)               262656    \n",
      "_________________________________________________________________\n",
      "DROP_2 (Dropout)             (None, 512)               0         \n",
      "_________________________________________________________________\n",
      "DEN_OUT (Dense)              (None, 1574)              807462    \n",
      "=================================================================\n",
      "Total params: 126,146,086\n",
      "Trainable params: 126,146,086\n",
      "Non-trainable params: 0\n",
      "_________________________________________________________________\n"
     ]
    }
   ],
   "source": [
    "model = Sequential(name = f\"{EC['EXPERIMENT-NAME']}-{EC['EXPERIMENT-VERSION']}\")\n",
    "model.add(hub_layer)\n",
    "model.add(Dense(units = EC[\"MODEL-DENSE_UNITS\"], \n",
    "                activation = EC[\"MODEL-DENSE_ACTIVATION\"],  \n",
    "                name = \"DEN_1\"))\n",
    "model.add(Dropout(rate = EC[\"MODEL-DENSE_DROPOUT_RATE\"],\n",
    "                 name = \"DROP_1\"))\n",
    "model.add(Dense(units = EC[\"MODEL-DENSE_UNITS\"], \n",
    "                activation = EC[\"MODEL-DENSE_ACTIVATION\"],  \n",
    "                name = \"DEN_2\"))\n",
    "model.add(Dropout(rate = EC[\"MODEL-DENSE_DROPOUT_RATE\"],\n",
    "                 name=\"DROP_2\"))\n",
    "\n",
    "model.add(Dense(output_dim, activation=\"softmax\", name=\"DEN_OUT\"))\n",
    "\n",
    "model.compile(optimizer=EC[\"MODEL-OPTIMIZER\"], \n",
    "              loss=EC[\"MODEL-LOSS\"])\n",
    "EC[\"MODEL-SUMMARY\"] = []\n",
    "model.summary(print_fn = lambda x: EC[\"MODEL-SUMMARY\"].append(x))\n",
    "model.summary()"
   ]
  },
  {
   "cell_type": "markdown",
   "metadata": {
    "colab_type": "text",
    "id": "rCMy4icFKLsu"
   },
   "source": [
    "### Train and Test"
   ]
  },
  {
   "cell_type": "code",
   "execution_count": 0,
   "metadata": {
    "colab": {
     "base_uri": "https://localhost:8080/",
     "height": 187
    },
    "colab_type": "code",
    "id": "S7G0O9bRKLsv",
    "outputId": "8ce4d5ed-9270-4193-a163-d9cf765061d8"
   },
   "outputs": [
    {
     "name": "stdout",
     "output_type": "stream",
     "text": [
      "Host: None_877b86455e1c\n",
      "OS: Linux 877b86455e1c 4.14.137+ #1 SMP Thu Aug 8 02:47:02 PDT 2019 x86_64 x86_64 x86_64 GNU/Linux\n",
      "Python: 3.6.9 (default, Nov  7 2019, 10:44:02) \n",
      "[GCC 8.3.0]\n",
      "Tensorflow: 2.1.0-rc1\n",
      "GPU: available\n",
      "GPU 0: Tesla T4 (UUID: GPU-60d41257-a815-c494-596b-8b066b3b033d)\n",
      "Keras: 2.2.4-tf\n",
      "TFHub: 0.7.0\n",
      "runid: base-v1-200118_0132\n"
     ]
    }
   ],
   "source": [
    "#run params\n",
    "runid = \"%s-%s-%s\"%\\\n",
    "    (EC[\"EXPERIMENT-NAME\"],\n",
    "     EC[\"EXPERIMENT-VERSION\"],\n",
    "     time.strftime(time.strftime('%y%m%d_%H%M',time.localtime())))\n",
    "\n",
    "EC[\"EXPERIMENT-RUNID\"] = runid\n",
    "\n",
    "#Create saved model dir     \n",
    "directory = SAVED_MODEL_DIR+\"/\"+runid\n",
    "if not os.path.exists(directory):\n",
    "    os.makedirs(directory)\n",
    "EC[\"EXPERIMENT-SAVE_DIR\"] = directory\n",
    "\n",
    "EC[\"EXPERIMENT-LOG_DIR\"] = f\"{LOG_DIR}/{runid}\"\n",
    "EC[\"EXPERIMENT-BEST_MODEL_FN\"] = f\"{directory}/model.hdf5\"\n",
    "\n",
    "EC[\"EXPERIMENT-ENVIRONMENT\"]  = show_env(as_string=False)\n",
    "\n",
    "print(show_env())\n",
    "print(f\"runid: {runid}\")"
   ]
  },
  {
   "cell_type": "code",
   "execution_count": 0,
   "metadata": {
    "colab": {
     "base_uri": "https://localhost:8080/",
     "height": 530
    },
    "colab_type": "code",
    "id": "E0D-4PDcKLsy",
    "outputId": "a0d7d286-fd98-4b49-8c52-1bb3ee07744c"
   },
   "outputs": [
    {
     "name": "stdout",
     "output_type": "stream",
     "text": [
      "Training...\n",
      "Start:20200118_0132\n",
      "Train on 9975010 samples, validate on 4990 samples\n",
      "Epoch 1/8\n",
      "9974784/9975010 [============================>.] - ETA: 0s - loss: 1.0230\n",
      "Epoch 00001: val_loss improved from inf to 0.71248, saving model to saved_models/base-v1-200118_0132/model.hdf5\n",
      "9975010/9975010 [==============================] - 803s 81us/sample - loss: 1.0230 - val_loss: 0.7125\n",
      "Epoch 2/8\n",
      "9974784/9975010 [============================>.] - ETA: 0s - loss: 0.7151\n",
      "Epoch 00002: val_loss improved from 0.71248 to 0.66751, saving model to saved_models/base-v1-200118_0132/model.hdf5\n",
      "9975010/9975010 [==============================] - 802s 80us/sample - loss: 0.7151 - val_loss: 0.6675\n",
      "Epoch 3/8\n",
      "9974784/9975010 [============================>.] - ETA: 0s - loss: 0.6553\n",
      "Epoch 00003: val_loss improved from 0.66751 to 0.65212, saving model to saved_models/base-v1-200118_0132/model.hdf5\n",
      "9975010/9975010 [==============================] - 810s 81us/sample - loss: 0.6553 - val_loss: 0.6521\n",
      "Epoch 4/8\n",
      "9974784/9975010 [============================>.] - ETA: 0s - loss: 0.6205\n",
      "Epoch 00004: val_loss improved from 0.65212 to 0.64761, saving model to saved_models/base-v1-200118_0132/model.hdf5\n",
      "9975010/9975010 [==============================] - 804s 81us/sample - loss: 0.6205 - val_loss: 0.6476\n",
      "Epoch 5/8\n",
      "9974784/9975010 [============================>.] - ETA: 0s - loss: 0.5970\n",
      "Epoch 00005: val_loss improved from 0.64761 to 0.64560, saving model to saved_models/base-v1-200118_0132/model.hdf5\n",
      "9975010/9975010 [==============================] - 805s 81us/sample - loss: 0.5970 - val_loss: 0.6456\n",
      "Epoch 6/8\n",
      "9974784/9975010 [============================>.] - ETA: 0s - loss: 0.5806\n",
      "Epoch 00006: val_loss improved from 0.64560 to 0.64284, saving model to saved_models/base-v1-200118_0132/model.hdf5\n",
      "9975010/9975010 [==============================] - 807s 81us/sample - loss: 0.5806 - val_loss: 0.6428\n",
      "Epoch 7/8\n",
      "2228224/9975010 [=====>........................] - ETA: 10:19 - loss: 0.5435Buffered data was truncated after reaching the output size limit."
     ]
    }
   ],
   "source": [
    "print('Training...')\n",
    "\n",
    "tensorboard = TensorBoard(log_dir=EC[\"EXPERIMENT-LOG_DIR\"])\n",
    "checkpoint = ModelCheckpoint(EC[\"EXPERIMENT-BEST_MODEL_FN\"], \n",
    "                             monitor='val_loss',\n",
    "                             verbose=1, save_best_only=True, mode=\"min\")\n",
    "\n",
    "# train\n",
    "t0 = time.time()\n",
    "EC[\"EXPERIMENT-STARTED_AT\"] = t0\n",
    "print(\"Start:\" + time.strftime(\"%Y%m%d_%H%M\", time.localtime()))\n",
    "history = model.fit(np.array(training_set_data), \n",
    "          training_set_labels,\n",
    "          batch_size = EC[\"TRAIN-BATCH_SIZE\"],\n",
    "          epochs = EC[\"TRAIN-EPOCHS\"],\n",
    "          initial_epoch = EC[\"TRAIN-INITIAL_EPOCH\"],\n",
    "          validation_split = EC[\"TRAIN-VALIDATION_SET_SPLIT\"],\n",
    "          verbose=1,\n",
    "          callbacks=[tensorboard, checkpoint])\n",
    "\n",
    "tfin = time.time()\n",
    "EC[\"EXPERIMENT-FINISHED_AT\"] = tfin\n",
    "print(\"End:\" + time.strftime(\"%Y%m%d_%H%M\",time.localtime()))\n",
    "ttook = tfin - t0 \n",
    "EC[\"EXPERIMENT-TRAINIG_TOOK\"] = ttook\n",
    "print(f\"{ttook} sec, {ttook/60} min, {ttook/3600} hrs\")"
   ]
  },
  {
   "cell_type": "code",
   "execution_count": 0,
   "metadata": {
    "colab": {},
    "colab_type": "code",
    "id": "jtGI4GzjKLs0"
   },
   "outputs": [],
   "source": [
    "EC[\"RESULTS-HISTORIES\"].append(history.history)"
   ]
  },
  {
   "cell_type": "markdown",
   "metadata": {
    "colab_type": "text",
    "id": "0o4qDxyZKLs3"
   },
   "source": [
    "## Test"
   ]
  },
  {
   "cell_type": "code",
   "execution_count": 0,
   "metadata": {
    "colab": {
     "base_uri": "https://localhost:8080/",
     "height": 51
    },
    "colab_type": "code",
    "id": "hEJBZC4FKLs4",
    "outputId": "924f2f4e-a89d-46d0-da49-f168ef176231"
   },
   "outputs": [
    {
     "name": "stdout",
     "output_type": "stream",
     "text": [
      "Predict:\n",
      "20000/20000 [==============================] - 4s 207us/sample\n"
     ]
    }
   ],
   "source": [
    "#Use last model\n",
    "analysis_model = model\n",
    "#Load best model\n",
    "#analysis_model = tf.keras.models.load_model(directory+\"/model.hdf5\", \n",
    "#                                            custom_objects={\n",
    "#                                                \"KerasLayer\":hub_layer\n",
    "#                                            })\n",
    "print(\"Predict:\")\n",
    "predictions = analysis_model.predict(np.array(test_set_data), verbose=1)"
   ]
  },
  {
   "cell_type": "code",
   "execution_count": 0,
   "metadata": {
    "colab": {},
    "colab_type": "code",
    "id": "M1pCa6AwKLs7",
    "scrolled": true
   },
   "outputs": [],
   "source": [
    "#predictions[0]"
   ]
  },
  {
   "cell_type": "code",
   "execution_count": 0,
   "metadata": {
    "colab": {},
    "colab_type": "code",
    "id": "Ec5zBsavKLs9",
    "scrolled": true
   },
   "outputs": [],
   "source": [
    "inverse_cat_dict = dict(zip(cat_dict.values(), cat_dict.keys()))\n",
    "predicted_categories = [inverse_cat_dict[np.argmax(p)] for p in predictions]\n",
    "#predicted_categories"
   ]
  },
  {
   "cell_type": "code",
   "execution_count": 0,
   "metadata": {
    "colab": {},
    "colab_type": "code",
    "id": "k6tKZ0AiKLtA",
    "scrolled": true
   },
   "outputs": [],
   "source": [
    "real_categories = [inverse_cat_dict[p] for p in test_set_labels]\n",
    "#real_categories"
   ]
  },
  {
   "cell_type": "markdown",
   "metadata": {
    "colab_type": "text",
    "id": "1K7uUl8vKLtF"
   },
   "source": [
    "### Balanced Accuracy"
   ]
  },
  {
   "cell_type": "code",
   "execution_count": 0,
   "metadata": {
    "colab": {
     "base_uri": "https://localhost:8080/",
     "height": 88
    },
    "colab_type": "code",
    "id": "eqsnMpusKLtG",
    "outputId": "95d5e429-f01b-4e7e-c9ac-1e9cfc47cb9c"
   },
   "outputs": [
    {
     "name": "stderr",
     "output_type": "stream",
     "text": [
      "/usr/local/lib/python3.6/dist-packages/sklearn/metrics/_classification.py:1859: UserWarning: y_pred contains classes not in y_true\n",
      "  warnings.warn('y_pred contains classes not in y_true')\n"
     ]
    },
    {
     "data": {
      "text/plain": [
       "0.8326882554972607"
      ]
     },
     "execution_count": 21,
     "metadata": {
      "tags": []
     },
     "output_type": "execute_result"
    }
   ],
   "source": [
    "bac = balanced_accuracy_score(real_categories, predicted_categories)\n",
    "EC[\"RESULTS-BALANCED_ACCURACY\"] = bac\n",
    "bac"
   ]
  },
  {
   "cell_type": "markdown",
   "metadata": {
    "colab_type": "text",
    "id": "G7XoU-gkKLtJ"
   },
   "source": [
    "### Save results with metadata"
   ]
  },
  {
   "cell_type": "code",
   "execution_count": 0,
   "metadata": {
    "colab": {
     "base_uri": "https://localhost:8080/",
     "height": 1000
    },
    "colab_type": "code",
    "id": "39YzmSAIKLtK",
    "outputId": "48251ee5-dce3-4a1a-efe6-c43a965768aa"
   },
   "outputs": [
    {
     "data": {
      "text/plain": [
       "{'DATASET_FN': '/content/drive/My Drive/datasets/lang_model_eval/es-train.csv',\n",
       " 'EXPERIMENT-BEST_MODEL_FN': 'saved_models/base-v1-200118_0132/model.hdf5',\n",
       " 'EXPERIMENT-ENVIRONMENT': ['Host: None_877b86455e1c',\n",
       "  'OS: Linux 877b86455e1c 4.14.137+ #1 SMP Thu Aug 8 02:47:02 PDT 2019 x86_64 x86_64 x86_64 GNU/Linux',\n",
       "  'Python: 3.6.9 (default, Nov  7 2019, 10:44:02) \\n[GCC 8.3.0]',\n",
       "  'Tensorflow: 2.1.0-rc1',\n",
       "  'GPU: available',\n",
       "  'GPU 0: Tesla T4 (UUID: GPU-60d41257-a815-c494-596b-8b066b3b033d)',\n",
       "  'Keras: 2.2.4-tf',\n",
       "  'TFHub: 0.7.0'],\n",
       " 'EXPERIMENT-FINISHED_AT': 1579317617.3920755,\n",
       " 'EXPERIMENT-LOG_DIR': 'logs/base-v1-200118_0132',\n",
       " 'EXPERIMENT-NAME': 'base',\n",
       " 'EXPERIMENT-RUNID': 'base-v1-200118_0132',\n",
       " 'EXPERIMENT-SAVE_DIR': 'saved_models/base-v1-200118_0132',\n",
       " 'EXPERIMENT-STARTED_AT': 1579311178.332321,\n",
       " 'EXPERIMENT-TRAINIG_TOOK': 6439.059754610062,\n",
       " 'EXPERIMENT-VERSION': 'v1',\n",
       " 'MODEL-DENSE_ACTIVATION': 'relu',\n",
       " 'MODEL-DENSE_DROPOUT_RATE': 0.25,\n",
       " 'MODEL-DENSE_UNITS': 512,\n",
       " 'MODEL-LM_IS_TRAINABLE': True,\n",
       " 'MODEL-LOSS': 'sparse_categorical_crossentropy',\n",
       " 'MODEL-OPTIMIZER': 'Adam',\n",
       " 'MODEL-SUMMARY': ['Model: \"base-v1\"',\n",
       "  '_________________________________________________________________',\n",
       "  'Layer (type)                 Output Shape              Param #   ',\n",
       "  '=================================================================',\n",
       "  'LANG_MODEL (KerasLayer)      (None, 128)               125009920 ',\n",
       "  '_________________________________________________________________',\n",
       "  'DEN_1 (Dense)                (None, 512)               66048     ',\n",
       "  '_________________________________________________________________',\n",
       "  'DROP_1 (Dropout)             (None, 512)               0         ',\n",
       "  '_________________________________________________________________',\n",
       "  'DEN_2 (Dense)                (None, 512)               262656    ',\n",
       "  '_________________________________________________________________',\n",
       "  'DROP_2 (Dropout)             (None, 512)               0         ',\n",
       "  '_________________________________________________________________',\n",
       "  'DEN_OUT (Dense)              (None, 1574)              807462    ',\n",
       "  '=================================================================',\n",
       "  'Total params: 126,146,086',\n",
       "  'Trainable params: 126,146,086',\n",
       "  'Non-trainable params: 0',\n",
       "  '_________________________________________________________________'],\n",
       " 'RANDOM_SEED': 12348,\n",
       " 'RESULTS-BALANCED_ACCURACY': 0.8326882554972607,\n",
       " 'RESULTS-HISTORIES': [{'loss': [1.02302501202612,\n",
       "    0.715056639538212,\n",
       "    0.6552974741951703,\n",
       "    0.6204939737073984,\n",
       "    0.597002007454103,\n",
       "    0.5806054315707835,\n",
       "    0.5682265338065394,\n",
       "    0.5588629627827629],\n",
       "   'val_loss': [0.7124771928500556,\n",
       "    0.667510987116483,\n",
       "    0.6521220101144366,\n",
       "    0.6476099490402696,\n",
       "    0.6456032322738356,\n",
       "    0.6428405266486571,\n",
       "    0.6424323582935907,\n",
       "    0.6419962223402723]}],\n",
       " 'ROWS_TO_LOAD': None,\n",
       " 'TEST_SET_SPLIT': 0.002,\n",
       " 'TFHUB-EMB_MODEL': 'https://tfhub.dev/google/tf2-preview/nnlm-es-dim128-with-normalization/1',\n",
       " 'TFHUB-EMB_MODEL_DIM': 128,\n",
       " 'TRAIN-BATCH_SIZE': 1024,\n",
       " 'TRAIN-EPOCHS': 8,\n",
       " 'TRAIN-INITIAL_EPOCH': 0,\n",
       " 'TRAIN-VALIDATION_SET_SPLIT': 0.0005}"
      ]
     },
     "execution_count": 22,
     "metadata": {
      "tags": []
     },
     "output_type": "execute_result"
    }
   ],
   "source": [
    "EC"
   ]
  },
  {
   "cell_type": "code",
   "execution_count": 0,
   "metadata": {
    "colab": {},
    "colab_type": "code",
    "id": "bMnnjkm0KLtM"
   },
   "outputs": [],
   "source": [
    "meta_fn = f\"{EC['EXPERIMENT-SAVE_DIR']}/experiment-metadata.json\"\n",
    "EC[\"EXPERIMENT-METADATA_FN\"] = meta_fn\n",
    "with open(meta_fn, \"wt\") as fo:\n",
    "    fo.write(json.dumps(EC))"
   ]
  },
  {
   "cell_type": "markdown",
   "metadata": {
    "colab_type": "text",
    "id": "k1AhqqqpKLtO"
   },
   "source": [
    "### History graphs"
   ]
  },
  {
   "cell_type": "code",
   "execution_count": 0,
   "metadata": {
    "colab": {
     "base_uri": "https://localhost:8080/",
     "height": 295
    },
    "colab_type": "code",
    "id": "Dy4b6GNpKLtQ",
    "outputId": "a1b1b0e6-c26d-4d55-c426-955361141721"
   },
   "outputs": [
    {
     "data": {
      "image/png": "[encoded data removed]",
      "text/plain": [
       "<Figure size 432x288 with 1 Axes>"
      ]
     },
     "metadata": {
      "tags": []
     },
     "output_type": "display_data"
    }
   ],
   "source": [
    "history_dict = history.history\n",
    "loss = history_dict['loss']\n",
    "val_loss = history_dict['val_loss']\n",
    "epochs = range(1, len(loss) + 1)\n",
    "plt.plot(epochs, loss, 'r', label='Training loss')\n",
    "plt.plot(epochs, val_loss, 'b', label='Validation loss')\n",
    "plt.title('Training and validation loss')\n",
    "plt.xlabel('Epochs')\n",
    "plt.ylabel('Loss')\n",
    "plt.legend()\n",
    "\n",
    "plt.show()"
   ]
  },
  {
   "cell_type": "markdown",
   "metadata": {
    "colab_type": "text",
    "id": "dHvsM_RZKLtS"
   },
   "source": [
    "## Results Analysis"
   ]
  },
  {
   "cell_type": "code",
   "execution_count": 0,
   "metadata": {
    "colab": {},
    "colab_type": "code",
    "id": "aigyOM2TKLtT"
   },
   "outputs": [],
   "source": [
    "test = pd.DataFrame({\n",
    "    'title':np.array(test_set_data),\n",
    "    'real':real_categories,\n",
    "    'predicted':predicted_categories\n",
    "})\n",
    "#test"
   ]
  },
  {
   "cell_type": "code",
   "execution_count": 0,
   "metadata": {
    "colab": {
     "base_uri": "https://localhost:8080/",
     "height": 1000
    },
    "colab_type": "code",
    "id": "M5OIrFZfKLtV",
    "outputId": "bfd5ede3-328b-43d8-bb06-af8823120ad6"
   },
   "outputs": [
    {
     "data": {
      "text/html": [
       "<div>\n",
       "<style scoped>\n",
       "    .dataframe tbody tr th:only-of-type {\n",
       "        vertical-align: middle;\n",
       "    }\n",
       "\n",
       "    .dataframe tbody tr th {\n",
       "        vertical-align: top;\n",
       "    }\n",
       "\n",
       "    .dataframe thead th {\n",
       "        text-align: right;\n",
       "    }\n",
       "</style>\n",
       "<table border=\"1\" class=\"dataframe\">\n",
       "  <thead>\n",
       "    <tr style=\"text-align: right;\">\n",
       "      <th></th>\n",
       "      <th>title</th>\n",
       "      <th>real</th>\n",
       "      <th>predicted</th>\n",
       "    </tr>\n",
       "  </thead>\n",
       "  <tbody>\n",
       "    <tr>\n",
       "      <th>0</th>\n",
       "      <td>Alfa Romeo 166 Exelente Carr Y Papeles A Repar...</td>\n",
       "      <td>CRASHED_CARS</td>\n",
       "      <td>CLASSIC_CARS</td>\n",
       "    </tr>\n",
       "    <tr>\n",
       "      <th>1</th>\n",
       "      <td>Bombacha Universal Jackard Margarita Sol Y Oro...</td>\n",
       "      <td>PANTIES</td>\n",
       "      <td>PANTIES</td>\n",
       "    </tr>\n",
       "    <tr>\n",
       "      <th>2</th>\n",
       "      <td>Teclados Netbook Del Gobierno (bangho, Samsung...</td>\n",
       "      <td>LAPTOP_KEYBOARDS</td>\n",
       "      <td>NETBOOKS</td>\n",
       "    </tr>\n",
       "    <tr>\n",
       "      <th>3</th>\n",
       "      <td>Cinta Erc 27 Alternativa</td>\n",
       "      <td>PRINTER_RIBBONS</td>\n",
       "      <td>PRINTER_RIBBONS</td>\n",
       "    </tr>\n",
       "    <tr>\n",
       "      <th>4</th>\n",
       "      <td>Tapa De Válvulas Clio 1.8 1.7 Francés 19 Chama...</td>\n",
       "      <td>AUTOMOTIVE_ENGINE_VALVE_COVERS</td>\n",
       "      <td>AUTOMOTIVE_ENGINE_VALVE_COVERS</td>\n",
       "    </tr>\n",
       "    <tr>\n",
       "      <th>5</th>\n",
       "      <td>Lote Revista Humor Chancho Satiricon Negro Pol...</td>\n",
       "      <td>MAGAZINES</td>\n",
       "      <td>MAGAZINES</td>\n",
       "    </tr>\n",
       "    <tr>\n",
       "      <th>6</th>\n",
       "      <td>Porcelanato Granito White 33x66 - Cerro Negro</td>\n",
       "      <td>PORCELAIN_TILES</td>\n",
       "      <td>PORCELAIN_TILES</td>\n",
       "    </tr>\n",
       "    <tr>\n",
       "      <th>7</th>\n",
       "      <td>Griferia Cocina Lavadero Monocomando Pared Hau...</td>\n",
       "      <td>KITCHEN_FAUCETS</td>\n",
       "      <td>KITCHEN_FAUCETS</td>\n",
       "    </tr>\n",
       "    <tr>\n",
       "      <th>8</th>\n",
       "      <td>Pedal De Delay Digital Boss Dd-500 Dd500 Nuevo...</td>\n",
       "      <td>PEDAL_EFFECTS</td>\n",
       "      <td>PEDAL_EFFECTS</td>\n",
       "    </tr>\n",
       "    <tr>\n",
       "      <th>9</th>\n",
       "      <td>Tecla Levantavidrios  Chevrolet S10 Blazer 199...</td>\n",
       "      <td>CAR_WINDOW_SWITCHES</td>\n",
       "      <td>CAR_WINDOW_SWITCHES</td>\n",
       "    </tr>\n",
       "    <tr>\n",
       "      <th>10</th>\n",
       "      <td>Radiador Calefaccion Volkswagen Gacel</td>\n",
       "      <td>HEATER_CORES</td>\n",
       "      <td>HEATER_CORES</td>\n",
       "    </tr>\n",
       "    <tr>\n",
       "      <th>11</th>\n",
       "      <td>2 Pinturas X 900cc + 10 Pinceletas N 1</td>\n",
       "      <td>PAINT_BRUSHES</td>\n",
       "      <td>PAINT_BRUSHES</td>\n",
       "    </tr>\n",
       "    <tr>\n",
       "      <th>12</th>\n",
       "      <td>Parrilla Portátil Plegable + Tabla Con Pala Y ...</td>\n",
       "      <td>CHARCOAL_GRILLS</td>\n",
       "      <td>CHARCOAL_GRILLS</td>\n",
       "    </tr>\n",
       "    <tr>\n",
       "      <th>13</th>\n",
       "      <td>Envase De Garrafas De 10k</td>\n",
       "      <td>GAS_CYLINDERS</td>\n",
       "      <td>GAS_CYLINDERS</td>\n",
       "    </tr>\n",
       "    <tr>\n",
       "      <th>14</th>\n",
       "      <td>Salamandra Estufa A Leña Tromen Tr12001 Hasta ...</td>\n",
       "      <td>FRANKLIN_STOVES</td>\n",
       "      <td>FRANKLIN_STOVES</td>\n",
       "    </tr>\n",
       "    <tr>\n",
       "      <th>15</th>\n",
       "      <td>Bateria Ludwig Accent 5 Cuerpos</td>\n",
       "      <td>DRUMS</td>\n",
       "      <td>DRUMS</td>\n",
       "    </tr>\n",
       "    <tr>\n",
       "      <th>16</th>\n",
       "      <td>Venecitas Biselada 2x2 Plancha 33x33 Mezcla Az...</td>\n",
       "      <td>DECORATIVE_TILES_AND_MOSAICS</td>\n",
       "      <td>DECORATIVE_TILES_AND_MOSAICS</td>\n",
       "    </tr>\n",
       "    <tr>\n",
       "      <th>17</th>\n",
       "      <td>Bandeja Garrard Gt55 Perfecto Estado Origen  E...</td>\n",
       "      <td>DJ_TURNTABLES</td>\n",
       "      <td>TURNTABLES</td>\n",
       "    </tr>\n",
       "    <tr>\n",
       "      <th>18</th>\n",
       "      <td>Cinturones Fiat Iava, 128, Sorpasso</td>\n",
       "      <td>SEAT_BELTS</td>\n",
       "      <td>SEAT_BELTS</td>\n",
       "    </tr>\n",
       "    <tr>\n",
       "      <th>19</th>\n",
       "      <td>Anti Stress Just</td>\n",
       "      <td>ESSENTIAL_OILS</td>\n",
       "      <td>ESSENTIAL_OILS</td>\n",
       "    </tr>\n",
       "    <tr>\n",
       "      <th>20</th>\n",
       "      <td>Asiento Serfas Ddm-200 Dual Gel Importado Cicl...</td>\n",
       "      <td>BICYCLE_SEATS</td>\n",
       "      <td>BICYCLE_SEATS</td>\n",
       "    </tr>\n",
       "    <tr>\n",
       "      <th>21</th>\n",
       "      <td>Estacion De Soldado Digital Zd-931 48w Fullenergy</td>\n",
       "      <td>SOLDERING_IRONS</td>\n",
       "      <td>SOLDERING_IRONS</td>\n",
       "    </tr>\n",
       "    <tr>\n",
       "      <th>22</th>\n",
       "      <td>Tocadisco Audinac +repisas Para Guardar Discos</td>\n",
       "      <td>TURNTABLES</td>\n",
       "      <td>TURNTABLES</td>\n",
       "    </tr>\n",
       "    <tr>\n",
       "      <th>23</th>\n",
       "      <td>Funcional Soul!!!! Ultimos Talles!!! Últimos!!!!</td>\n",
       "      <td>SAFETY_FOOTWEAR</td>\n",
       "      <td>SAFETY_FOOTWEAR</td>\n",
       "    </tr>\n",
       "    <tr>\n",
       "      <th>24</th>\n",
       "      <td>Moto G6</td>\n",
       "      <td>CELLPHONES</td>\n",
       "      <td>CELLPHONES</td>\n",
       "    </tr>\n",
       "    <tr>\n",
       "      <th>25</th>\n",
       "      <td>Fingerlings Perezoso Interactivo Importado - O...</td>\n",
       "      <td>TOY_ROBOTS</td>\n",
       "      <td>TOY_ROBOTS</td>\n",
       "    </tr>\n",
       "    <tr>\n",
       "      <th>26</th>\n",
       "      <td>Ruana Calgary</td>\n",
       "      <td>PONCHOS</td>\n",
       "      <td>PONCHOS</td>\n",
       "    </tr>\n",
       "    <tr>\n",
       "      <th>27</th>\n",
       "      <td>Pintura Removible Plastidip P/ Gol 2 Galones +...</td>\n",
       "      <td>AUTOMOTIVE_PAINTS</td>\n",
       "      <td>AUTOMOTIVE_PAINTS</td>\n",
       "    </tr>\n",
       "    <tr>\n",
       "      <th>28</th>\n",
       "      <td>Revista Architectural Digest July 2010 Cher Ho...</td>\n",
       "      <td>MAGAZINES</td>\n",
       "      <td>MAGAZINES</td>\n",
       "    </tr>\n",
       "    <tr>\n",
       "      <th>29</th>\n",
       "      <td>Cuerpo Base+ Termostato+ Pipeta+junt Ford Ecos...</td>\n",
       "      <td>AUTOMOTIVE_ENGINE_COOLANT_THERMOSTATS</td>\n",
       "      <td>AUTOMOTIVE_THROTTLE_BODIES</td>\n",
       "    </tr>\n",
       "    <tr>\n",
       "      <th>30</th>\n",
       "      <td>Anafe De 4 Hornallas</td>\n",
       "      <td>COOKTOPS</td>\n",
       "      <td>COOKTOPS</td>\n",
       "    </tr>\n",
       "    <tr>\n",
       "      <th>31</th>\n",
       "      <td>Amplificadores E-sound Vtx-1000 2 X 500w / 4 Ohms</td>\n",
       "      <td>AUDIO_AMPLIFIERS</td>\n",
       "      <td>AUDIO_AMPLIFIERS</td>\n",
       "    </tr>\n",
       "    <tr>\n",
       "      <th>32</th>\n",
       "      <td>Paraguas San Lorenzo Cuervo Mmk P450</td>\n",
       "      <td>UMBRELLAS</td>\n",
       "      <td>UMBRELLAS</td>\n",
       "    </tr>\n",
       "    <tr>\n",
       "      <th>33</th>\n",
       "      <td>Smart Car Auto Reloj Control Comando De Voz Mu...</td>\n",
       "      <td>REMOTE_CONTROL_TOY_VEHICLES</td>\n",
       "      <td>REMOTE_CONTROL_TOY_VEHICLES</td>\n",
       "    </tr>\n",
       "    <tr>\n",
       "      <th>34</th>\n",
       "      <td>Amplificador Warwick Bc40 40w - Escucho Ofertas</td>\n",
       "      <td>INSTRUMENT_AMPLIFIERS</td>\n",
       "      <td>INSTRUMENT_AMPLIFIERS</td>\n",
       "    </tr>\n",
       "    <tr>\n",
       "      <th>35</th>\n",
       "      <td>Cerveza  Importada Alemana Schofferhofer Barri...</td>\n",
       "      <td>BEERS</td>\n",
       "      <td>BEERS</td>\n",
       "    </tr>\n",
       "    <tr>\n",
       "      <th>36</th>\n",
       "      <td>Multi Gym Randers 1205d</td>\n",
       "      <td>UNIVERSAL_HOME_GYMS</td>\n",
       "      <td>UNIVERSAL_HOME_GYMS</td>\n",
       "    </tr>\n",
       "    <tr>\n",
       "      <th>37</th>\n",
       "      <td>Bacha L195 Rectangular Colgar Derecha Izquierd...</td>\n",
       "      <td>BATHROOM_SINKS</td>\n",
       "      <td>BATHROOM_SINKS</td>\n",
       "    </tr>\n",
       "    <tr>\n",
       "      <th>38</th>\n",
       "      <td>Bomba De Vacio Value 142 Lts. Mejor Que Dosiva...</td>\n",
       "      <td>VACUUM_PUMPS</td>\n",
       "      <td>VACUUM_PUMPS</td>\n",
       "    </tr>\n",
       "    <tr>\n",
       "      <th>39</th>\n",
       "      <td>Comoda Cajonera Dormitorio - Hierro Y Madera</td>\n",
       "      <td>DRAWERS</td>\n",
       "      <td>DRAWERS</td>\n",
       "    </tr>\n",
       "    <tr>\n",
       "      <th>40</th>\n",
       "      <td>Combo Desmalezadora Bordeadora 52cc + Motosier...</td>\n",
       "      <td>BRUSH_CUTTERS</td>\n",
       "      <td>BRUSH_CUTTERS</td>\n",
       "    </tr>\n",
       "    <tr>\n",
       "      <th>41</th>\n",
       "      <td>Castlevania 3: Dracula's Curse Original Soundt...</td>\n",
       "      <td>GAME_CONSOLES</td>\n",
       "      <td>VIDEO_GAMES</td>\n",
       "    </tr>\n",
       "    <tr>\n",
       "      <th>42</th>\n",
       "      <td>Junta Fiat Duna S 89/01</td>\n",
       "      <td>ENGINE_GASKET_SETS</td>\n",
       "      <td>ENGINE_GASKET_SETS</td>\n",
       "    </tr>\n",
       "    <tr>\n",
       "      <th>43</th>\n",
       "      <td>Skb 1skb19-8u Rackera P/audio, Abs, De 8u (19 ...</td>\n",
       "      <td>DJ_CASES</td>\n",
       "      <td>DJ_CASES</td>\n",
       "    </tr>\n",
       "    <tr>\n",
       "      <th>44</th>\n",
       "      <td>Tv Color 21 Pulgadas C/control Remoto, Impecab...</td>\n",
       "      <td>TELEVISIONS</td>\n",
       "      <td>TELEVISIONS</td>\n",
       "    </tr>\n",
       "    <tr>\n",
       "      <th>45</th>\n",
       "      <td>Kit X 4 Neumatico Michelin Xm2 195/55 R16 87h</td>\n",
       "      <td>AUTOMOTIVE_TIRES</td>\n",
       "      <td>AUTOMOTIVE_TIRES</td>\n",
       "    </tr>\n",
       "    <tr>\n",
       "      <th>46</th>\n",
       "      <td>Libro - Goblin Slayer, Vol. 3 (manga)</td>\n",
       "      <td>MANGA</td>\n",
       "      <td>MANGA</td>\n",
       "    </tr>\n",
       "    <tr>\n",
       "      <th>47</th>\n",
       "      <td>Fuelle Cremallera Derecho Izquierdo Peugeot Boxer</td>\n",
       "      <td>AUTOMOTIVE_CV_JOINT_BOOTS</td>\n",
       "      <td>AUTOMOTIVE_CV_JOINT_BOOTS</td>\n",
       "    </tr>\n",
       "    <tr>\n",
       "      <th>48</th>\n",
       "      <td>Juego Vintage De Peine Y Espejo</td>\n",
       "      <td>COMBS</td>\n",
       "      <td>COMBS</td>\n",
       "    </tr>\n",
       "    <tr>\n",
       "      <th>49</th>\n",
       "      <td>Backlight Led Tv Piooner Ple32hms4</td>\n",
       "      <td>TV_REPLACEMENT_BACKLIGHT_LED_STRIPS</td>\n",
       "      <td>TV_REPLACEMENT_BACKLIGHT_LED_STRIPS</td>\n",
       "    </tr>\n",
       "  </tbody>\n",
       "</table>\n",
       "</div>"
      ],
      "text/plain": [
       "                                                title  ...                            predicted\n",
       "0   Alfa Romeo 166 Exelente Carr Y Papeles A Repar...  ...                         CLASSIC_CARS\n",
       "1   Bombacha Universal Jackard Margarita Sol Y Oro...  ...                              PANTIES\n",
       "2   Teclados Netbook Del Gobierno (bangho, Samsung...  ...                             NETBOOKS\n",
       "3                            Cinta Erc 27 Alternativa  ...                      PRINTER_RIBBONS\n",
       "4   Tapa De Válvulas Clio 1.8 1.7 Francés 19 Chama...  ...       AUTOMOTIVE_ENGINE_VALVE_COVERS\n",
       "5   Lote Revista Humor Chancho Satiricon Negro Pol...  ...                            MAGAZINES\n",
       "6      Porcelanato Granito White 33x66 - Cerro Negro   ...                      PORCELAIN_TILES\n",
       "7   Griferia Cocina Lavadero Monocomando Pared Hau...  ...                      KITCHEN_FAUCETS\n",
       "8   Pedal De Delay Digital Boss Dd-500 Dd500 Nuevo...  ...                        PEDAL_EFFECTS\n",
       "9   Tecla Levantavidrios  Chevrolet S10 Blazer 199...  ...                  CAR_WINDOW_SWITCHES\n",
       "10              Radiador Calefaccion Volkswagen Gacel  ...                         HEATER_CORES\n",
       "11            2 Pinturas X 900cc + 10 Pinceletas N 1   ...                        PAINT_BRUSHES\n",
       "12  Parrilla Portátil Plegable + Tabla Con Pala Y ...  ...                      CHARCOAL_GRILLS\n",
       "13                          Envase De Garrafas De 10k  ...                        GAS_CYLINDERS\n",
       "14  Salamandra Estufa A Leña Tromen Tr12001 Hasta ...  ...                      FRANKLIN_STOVES\n",
       "15                    Bateria Ludwig Accent 5 Cuerpos  ...                                DRUMS\n",
       "16  Venecitas Biselada 2x2 Plancha 33x33 Mezcla Az...  ...         DECORATIVE_TILES_AND_MOSAICS\n",
       "17  Bandeja Garrard Gt55 Perfecto Estado Origen  E...  ...                           TURNTABLES\n",
       "18                Cinturones Fiat Iava, 128, Sorpasso  ...                           SEAT_BELTS\n",
       "19                                  Anti Stress Just   ...                       ESSENTIAL_OILS\n",
       "20  Asiento Serfas Ddm-200 Dual Gel Importado Cicl...  ...                        BICYCLE_SEATS\n",
       "21  Estacion De Soldado Digital Zd-931 48w Fullenergy  ...                      SOLDERING_IRONS\n",
       "22     Tocadisco Audinac +repisas Para Guardar Discos  ...                           TURNTABLES\n",
       "23   Funcional Soul!!!! Ultimos Talles!!! Últimos!!!!  ...                      SAFETY_FOOTWEAR\n",
       "24                                            Moto G6  ...                           CELLPHONES\n",
       "25  Fingerlings Perezoso Interactivo Importado - O...  ...                           TOY_ROBOTS\n",
       "26                                      Ruana Calgary  ...                              PONCHOS\n",
       "27  Pintura Removible Plastidip P/ Gol 2 Galones +...  ...                    AUTOMOTIVE_PAINTS\n",
       "28  Revista Architectural Digest July 2010 Cher Ho...  ...                            MAGAZINES\n",
       "29  Cuerpo Base+ Termostato+ Pipeta+junt Ford Ecos...  ...           AUTOMOTIVE_THROTTLE_BODIES\n",
       "30                               Anafe De 4 Hornallas  ...                             COOKTOPS\n",
       "31  Amplificadores E-sound Vtx-1000 2 X 500w / 4 Ohms  ...                     AUDIO_AMPLIFIERS\n",
       "32              Paraguas San Lorenzo Cuervo Mmk P450   ...                            UMBRELLAS\n",
       "33  Smart Car Auto Reloj Control Comando De Voz Mu...  ...          REMOTE_CONTROL_TOY_VEHICLES\n",
       "34    Amplificador Warwick Bc40 40w - Escucho Ofertas  ...                INSTRUMENT_AMPLIFIERS\n",
       "35  Cerveza  Importada Alemana Schofferhofer Barri...  ...                                BEERS\n",
       "36                            Multi Gym Randers 1205d  ...                  UNIVERSAL_HOME_GYMS\n",
       "37  Bacha L195 Rectangular Colgar Derecha Izquierd...  ...                       BATHROOM_SINKS\n",
       "38  Bomba De Vacio Value 142 Lts. Mejor Que Dosiva...  ...                         VACUUM_PUMPS\n",
       "39       Comoda Cajonera Dormitorio - Hierro Y Madera  ...                              DRAWERS\n",
       "40  Combo Desmalezadora Bordeadora 52cc + Motosier...  ...                        BRUSH_CUTTERS\n",
       "41  Castlevania 3: Dracula's Curse Original Soundt...  ...                          VIDEO_GAMES\n",
       "42                            Junta Fiat Duna S 89/01  ...                   ENGINE_GASKET_SETS\n",
       "43  Skb 1skb19-8u Rackera P/audio, Abs, De 8u (19 ...  ...                             DJ_CASES\n",
       "44  Tv Color 21 Pulgadas C/control Remoto, Impecab...  ...                          TELEVISIONS\n",
       "45      Kit X 4 Neumatico Michelin Xm2 195/55 R16 87h  ...                     AUTOMOTIVE_TIRES\n",
       "46              Libro - Goblin Slayer, Vol. 3 (manga)  ...                                MANGA\n",
       "47  Fuelle Cremallera Derecho Izquierdo Peugeot Boxer  ...            AUTOMOTIVE_CV_JOINT_BOOTS\n",
       "48                    Juego Vintage De Peine Y Espejo  ...                                COMBS\n",
       "49                 Backlight Led Tv Piooner Ple32hms4  ...  TV_REPLACEMENT_BACKLIGHT_LED_STRIPS\n",
       "\n",
       "[50 rows x 3 columns]"
      ]
     },
     "execution_count": 26,
     "metadata": {
      "tags": []
     },
     "output_type": "execute_result"
    }
   ],
   "source": [
    "pd.options.display.max_rows = 50\n",
    "test.head(50)"
   ]
  },
  {
   "cell_type": "code",
   "execution_count": 0,
   "metadata": {
    "colab": {},
    "colab_type": "code",
    "id": "64dVyQpZKLtY"
   },
   "outputs": [],
   "source": [
    "test.to_csv(directory+\"/test-results.csv\", index=False)"
   ]
  },
  {
   "cell_type": "code",
   "execution_count": 0,
   "metadata": {
    "colab": {},
    "colab_type": "code",
    "id": "eBJlEBW-KLta"
   },
   "outputs": [],
   "source": [
    "with open(directory+\"/inverse_cat_dict.pickle\", \"wb\") as fo:\n",
    "    pickle.dump(inverse_cat_dict, fo)"
   ]
  },
  {
   "cell_type": "code",
   "execution_count": 0,
   "metadata": {
    "colab": {},
    "colab_type": "code",
    "id": "dB_MyEqLKLtd"
   },
   "outputs": [],
   "source": [
    "with open(directory+\"/predictions.pickle\", \"wb\") as fo:\n",
    "    pickle.dump(predictions, fo)"
   ]
  }
 ],
 "metadata": {
  "accelerator": "GPU",
  "colab": {
   "include_colab_link": true,
   "name": "Copy of base.ipynb",
   "provenance": [],
   "toc_visible": true
  },
  "kernelspec": {
   "display_name": "Python 3",
   "language": "python",
   "name": "python3"
  },
  "language_info": {
   "codemirror_mode": {
    "name": "ipython",
    "version": 3
   },
   "file_extension": ".py",
   "mimetype": "text/x-python",
   "name": "python",
   "nbconvert_exporter": "python",
   "pygments_lexer": "ipython3",
   "version": "3.6.9"
  }
 },
 "nbformat": 4,
 "nbformat_minor": 1
}
